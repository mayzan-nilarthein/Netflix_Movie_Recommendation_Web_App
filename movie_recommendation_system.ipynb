{
 "cells": [
  {
   "attachments": {
    "cover_trail.jpg": {
     "image/jpeg": "[encoded data removed]"
    }
   },
   "cell_type": "markdown",
   "id": "2cea021b",
   "metadata": {},
   "source": [
    "# <center> Netflix Movie Recommendation System </center>\n",
    "\n",
    "\n",
    "![cover_trail.jpg](attachment:cover_trail.jpg)"
   ]
  },
  {
   "cell_type": "code",
   "execution_count": 381,
   "id": "e46c5f0f",
   "metadata": {},
   "outputs": [],
   "source": [
    "#import required libaries\n",
    "import pandas as pd\n",
    "import numpy as np\n",
    "import seaborn as sns\n",
    "import matplotlib.pyplot as plt\n",
    "sns.set_style(\"whitegrid\")\n",
    "sns.set(rc = {'figure.figsize':(12,8)})"
   ]
  },
  {
   "cell_type": "code",
   "execution_count": 386,
   "id": "1f35d468",
   "metadata": {},
   "outputs": [],
   "source": [
    "#load dataset\n",
    "df = pd.read_csv('netflix_titles.csv')"
   ]
  },
  {
   "cell_type": "code",
   "execution_count": 387,
   "id": "16b99eb3",
   "metadata": {},
   "outputs": [],
   "source": [
    "#only select the movies\n",
    "movies = df[df['type']=='Movie'].reset_index()"
   ]
  },
  {
   "cell_type": "markdown",
   "id": "f720710e",
   "metadata": {},
   "source": [
    "## Exploratory Data Analysis\n",
    " <h4> 1. Understanding the variables </h4>"
   ]
  },
  {
   "cell_type": "code",
   "execution_count": 388,
   "id": "17953147",
   "metadata": {},
   "outputs": [
    {
     "data": {
      "text/html": [
       "<div>\n",
       "<style scoped>\n",
       "    .dataframe tbody tr th:only-of-type {\n",
       "        vertical-align: middle;\n",
       "    }\n",
       "\n",
       "    .dataframe tbody tr th {\n",
       "        vertical-align: top;\n",
       "    }\n",
       "\n",
       "    .dataframe thead th {\n",
       "        text-align: right;\n",
       "    }\n",
       "</style>\n",
       "<table border=\"1\" class=\"dataframe\">\n",
       "  <thead>\n",
       "    <tr style=\"text-align: right;\">\n",
       "      <th></th>\n",
       "      <th>index</th>\n",
       "      <th>show_id</th>\n",
       "      <th>type</th>\n",
       "      <th>title</th>\n",
       "      <th>director</th>\n",
       "      <th>cast</th>\n",
       "      <th>country</th>\n",
       "      <th>date_added</th>\n",
       "      <th>release_year</th>\n",
       "      <th>rating</th>\n",
       "      <th>duration</th>\n",
       "      <th>listed_in</th>\n",
       "      <th>description</th>\n",
       "    </tr>\n",
       "  </thead>\n",
       "  <tbody>\n",
       "    <tr>\n",
       "      <th>0</th>\n",
       "      <td>0</td>\n",
       "      <td>s1</td>\n",
       "      <td>Movie</td>\n",
       "      <td>Dick Johnson Is Dead</td>\n",
       "      <td>Kirsten Johnson</td>\n",
       "      <td>NaN</td>\n",
       "      <td>United States</td>\n",
       "      <td>September 25, 2021</td>\n",
       "      <td>2020</td>\n",
       "      <td>PG-13</td>\n",
       "      <td>90 min</td>\n",
       "      <td>Documentaries</td>\n",
       "      <td>As her father nears the end of his life, filmm...</td>\n",
       "    </tr>\n",
       "    <tr>\n",
       "      <th>1</th>\n",
       "      <td>6</td>\n",
       "      <td>s7</td>\n",
       "      <td>Movie</td>\n",
       "      <td>My Little Pony: A New Generation</td>\n",
       "      <td>Robert Cullen, José Luis Ucha</td>\n",
       "      <td>Vanessa Hudgens, Kimiko Glenn, James Marsden, ...</td>\n",
       "      <td>NaN</td>\n",
       "      <td>September 24, 2021</td>\n",
       "      <td>2021</td>\n",
       "      <td>PG</td>\n",
       "      <td>91 min</td>\n",
       "      <td>Children &amp; Family Movies</td>\n",
       "      <td>Equestria's divided. But a bright-eyed hero be...</td>\n",
       "    </tr>\n",
       "  </tbody>\n",
       "</table>\n",
       "</div>"
      ],
      "text/plain": [
       "   index show_id   type                             title  \\\n",
       "0      0      s1  Movie              Dick Johnson Is Dead   \n",
       "1      6      s7  Movie  My Little Pony: A New Generation   \n",
       "\n",
       "                        director  \\\n",
       "0                Kirsten Johnson   \n",
       "1  Robert Cullen, José Luis Ucha   \n",
       "\n",
       "                                                cast        country  \\\n",
       "0                                                NaN  United States   \n",
       "1  Vanessa Hudgens, Kimiko Glenn, James Marsden, ...            NaN   \n",
       "\n",
       "           date_added  release_year rating duration                 listed_in  \\\n",
       "0  September 25, 2021          2020  PG-13   90 min             Documentaries   \n",
       "1  September 24, 2021          2021     PG   91 min  Children & Family Movies   \n",
       "\n",
       "                                         description  \n",
       "0  As her father nears the end of his life, filmm...  \n",
       "1  Equestria's divided. But a bright-eyed hero be...  "
      ]
     },
     "execution_count": 388,
     "metadata": {},
     "output_type": "execute_result"
    }
   ],
   "source": [
    "movies.head(2)"
   ]
  },
  {
   "cell_type": "code",
   "execution_count": 389,
   "id": "05cf4d4b",
   "metadata": {},
   "outputs": [],
   "source": [
    "movies.drop(['index'], axis=1, inplace=True)"
   ]
  },
  {
   "cell_type": "code",
   "execution_count": 390,
   "id": "d619bbe0",
   "metadata": {},
   "outputs": [
    {
     "data": {
      "text/plain": [
       "(6131, 12)"
      ]
     },
     "execution_count": 390,
     "metadata": {},
     "output_type": "execute_result"
    }
   ],
   "source": [
    "#check for the number of rows and cols\n",
    "movies.shape"
   ]
  },
  {
   "cell_type": "code",
   "execution_count": 391,
   "id": "7eb37273",
   "metadata": {},
   "outputs": [],
   "source": [
    "movies['show_id'] = [x for x in range(1,6132)]"
   ]
  },
  {
   "cell_type": "code",
   "execution_count": 392,
   "id": "9e780d82",
   "metadata": {},
   "outputs": [
    {
     "data": {
      "text/html": [
       "<div>\n",
       "<style scoped>\n",
       "    .dataframe tbody tr th:only-of-type {\n",
       "        vertical-align: middle;\n",
       "    }\n",
       "\n",
       "    .dataframe tbody tr th {\n",
       "        vertical-align: top;\n",
       "    }\n",
       "\n",
       "    .dataframe thead th {\n",
       "        text-align: right;\n",
       "    }\n",
       "</style>\n",
       "<table border=\"1\" class=\"dataframe\">\n",
       "  <thead>\n",
       "    <tr style=\"text-align: right;\">\n",
       "      <th></th>\n",
       "      <th>show_id</th>\n",
       "      <th>type</th>\n",
       "      <th>title</th>\n",
       "      <th>director</th>\n",
       "      <th>cast</th>\n",
       "      <th>country</th>\n",
       "      <th>date_added</th>\n",
       "      <th>release_year</th>\n",
       "      <th>rating</th>\n",
       "      <th>duration</th>\n",
       "      <th>listed_in</th>\n",
       "      <th>description</th>\n",
       "    </tr>\n",
       "  </thead>\n",
       "  <tbody>\n",
       "    <tr>\n",
       "      <th>0</th>\n",
       "      <td>1</td>\n",
       "      <td>Movie</td>\n",
       "      <td>Dick Johnson Is Dead</td>\n",
       "      <td>Kirsten Johnson</td>\n",
       "      <td>NaN</td>\n",
       "      <td>United States</td>\n",
       "      <td>September 25, 2021</td>\n",
       "      <td>2020</td>\n",
       "      <td>PG-13</td>\n",
       "      <td>90 min</td>\n",
       "      <td>Documentaries</td>\n",
       "      <td>As her father nears the end of his life, filmm...</td>\n",
       "    </tr>\n",
       "    <tr>\n",
       "      <th>1</th>\n",
       "      <td>2</td>\n",
       "      <td>Movie</td>\n",
       "      <td>My Little Pony: A New Generation</td>\n",
       "      <td>Robert Cullen, José Luis Ucha</td>\n",
       "      <td>Vanessa Hudgens, Kimiko Glenn, James Marsden, ...</td>\n",
       "      <td>NaN</td>\n",
       "      <td>September 24, 2021</td>\n",
       "      <td>2021</td>\n",
       "      <td>PG</td>\n",
       "      <td>91 min</td>\n",
       "      <td>Children &amp; Family Movies</td>\n",
       "      <td>Equestria's divided. But a bright-eyed hero be...</td>\n",
       "    </tr>\n",
       "  </tbody>\n",
       "</table>\n",
       "</div>"
      ],
      "text/plain": [
       "   show_id   type                             title  \\\n",
       "0        1  Movie              Dick Johnson Is Dead   \n",
       "1        2  Movie  My Little Pony: A New Generation   \n",
       "\n",
       "                        director  \\\n",
       "0                Kirsten Johnson   \n",
       "1  Robert Cullen, José Luis Ucha   \n",
       "\n",
       "                                                cast        country  \\\n",
       "0                                                NaN  United States   \n",
       "1  Vanessa Hudgens, Kimiko Glenn, James Marsden, ...            NaN   \n",
       "\n",
       "           date_added  release_year rating duration                 listed_in  \\\n",
       "0  September 25, 2021          2020  PG-13   90 min             Documentaries   \n",
       "1  September 24, 2021          2021     PG   91 min  Children & Family Movies   \n",
       "\n",
       "                                         description  \n",
       "0  As her father nears the end of his life, filmm...  \n",
       "1  Equestria's divided. But a bright-eyed hero be...  "
      ]
     },
     "execution_count": 392,
     "metadata": {},
     "output_type": "execute_result"
    }
   ],
   "source": [
    "movies.head(2)"
   ]
  },
  {
   "cell_type": "code",
   "execution_count": 393,
   "id": "517e6977",
   "metadata": {},
   "outputs": [
    {
     "name": "stdout",
     "output_type": "stream",
     "text": [
      "<class 'pandas.core.frame.DataFrame'>\n",
      "RangeIndex: 6131 entries, 0 to 6130\n",
      "Data columns (total 12 columns):\n",
      " #   Column        Non-Null Count  Dtype \n",
      "---  ------        --------------  ----- \n",
      " 0   show_id       6131 non-null   int64 \n",
      " 1   type          6131 non-null   object\n",
      " 2   title         6131 non-null   object\n",
      " 3   director      5943 non-null   object\n",
      " 4   cast          5656 non-null   object\n",
      " 5   country       5691 non-null   object\n",
      " 6   date_added    6131 non-null   object\n",
      " 7   release_year  6131 non-null   int64 \n",
      " 8   rating        6129 non-null   object\n",
      " 9   duration      6128 non-null   object\n",
      " 10  listed_in     6131 non-null   object\n",
      " 11  description   6131 non-null   object\n",
      "dtypes: int64(2), object(10)\n",
      "memory usage: 574.9+ KB\n"
     ]
    }
   ],
   "source": [
    "movies.info()"
   ]
  },
  {
   "cell_type": "code",
   "execution_count": 394,
   "id": "da453309",
   "metadata": {},
   "outputs": [],
   "source": [
    "#check missing values \n",
    "missing_percentage = movies.isnull().sum()/movies.shape[0]*100"
   ]
  },
  {
   "cell_type": "code",
   "execution_count": 395,
   "id": "e4160996",
   "metadata": {},
   "outputs": [
    {
     "data": {
      "text/plain": [
       "[0.0,\n",
       " 0.0,\n",
       " 0.0,\n",
       " 3.0663839504159194,\n",
       " 7.7475126406785195,\n",
       " 7.17664328820747,\n",
       " 0.0,\n",
       " 0.0,\n",
       " 0.032621105855488504,\n",
       " 0.048931658783232745,\n",
       " 0.0,\n",
       " 0.0]"
      ]
     },
     "execution_count": 395,
     "metadata": {},
     "output_type": "execute_result"
    }
   ],
   "source": [
    "missing_percentage.to_list()"
   ]
  },
  {
   "cell_type": "code",
   "execution_count": 396,
   "id": "0cb0639b",
   "metadata": {},
   "outputs": [],
   "source": [
    "clms = movies.columns.to_list()\n",
    "missing_percentage = missing_percentage.to_list()"
   ]
  },
  {
   "cell_type": "code",
   "execution_count": 397,
   "id": "91e4da1f",
   "metadata": {},
   "outputs": [
    {
     "data": {
      "text/plain": [
       "<BarContainer object of 12 artists>"
      ]
     },
     "execution_count": 397,
     "metadata": {},
     "output_type": "execute_result"
    },
    {
     "data": {
      "image/png": "[encoded data removed]",
      "text/plain": [
       "<Figure size 864x576 with 1 Axes>"
      ]
     },
     "metadata": {},
     "output_type": "display_data"
    }
   ],
   "source": [
    "plt.bar(clms, missing_percentage, color='red', alpha=0.5)\n",
    "\n",
    "# ax = sns.barplot(x=clms, y= missing_percentage,palette=\"Set3\")"
   ]
  },
  {
   "cell_type": "markdown",
   "id": "cf4f9e5c",
   "metadata": {},
   "source": [
    "<p> <strong><font color='orange'>director</font></strong> has about <strong><font color='orange'>3%</font></strong>, <strong><font color='orange'>cast</font></strong> has about<strong><font color='orange'>8%</font></strong> and country has <strong><font color='orange'>7%</font></strong> of missing values.\n",
    " "
   ]
  },
  {
   "cell_type": "code",
   "execution_count": 398,
   "id": "76fac410",
   "metadata": {},
   "outputs": [],
   "source": [
    "# movies[movies['director'].isnull()]\n",
    "# movies[movies['country'].isnull()]\n",
    "# movies[movies['country'].isnull()]"
   ]
  },
  {
   "cell_type": "markdown",
   "id": "a087a973",
   "metadata": {},
   "source": [
    "<h3> Split date_added column into two new columns </h3>"
   ]
  },
  {
   "cell_type": "code",
   "execution_count": 399,
   "id": "2de29895",
   "metadata": {},
   "outputs": [
    {
     "data": {
      "text/plain": [
       "January 1, 2020      97\n",
       "November 1, 2019     75\n",
       "March 1, 2018        72\n",
       "December 31, 2019    67\n",
       "October 1, 2018      64\n",
       "                     ..\n",
       "October 28, 2017      1\n",
       "October 27, 2017      1\n",
       "October 26, 2017      1\n",
       "October 24, 2017      1\n",
       "January 11, 2020      1\n",
       "Name: date_added, Length: 1533, dtype: int64"
      ]
     },
     "execution_count": 399,
     "metadata": {},
     "output_type": "execute_result"
    }
   ],
   "source": [
    "movies['date_added'].value_counts()"
   ]
  },
  {
   "cell_type": "code",
   "execution_count": 400,
   "id": "8b470393",
   "metadata": {},
   "outputs": [],
   "source": [
    "def split_year(x):\n",
    "    return x.split(',')[1].strip()"
   ]
  },
  {
   "cell_type": "code",
   "execution_count": 401,
   "id": "2e052ccf",
   "metadata": {},
   "outputs": [
    {
     "data": {
      "text/plain": [
       "'September'"
      ]
     },
     "execution_count": 401,
     "metadata": {},
     "output_type": "execute_result"
    }
   ],
   "source": [
    "#testing\n",
    "m1 = movies['date_added'][1]\n",
    "m1.split(' ')[0]"
   ]
  },
  {
   "cell_type": "code",
   "execution_count": 402,
   "id": "ffd9a8b1",
   "metadata": {},
   "outputs": [],
   "source": [
    "def split_month(x):\n",
    "    return x.split(' ')[0].strip()"
   ]
  },
  {
   "cell_type": "code",
   "execution_count": 403,
   "id": "d2d0fb45",
   "metadata": {},
   "outputs": [],
   "source": [
    "#splitting values\n",
    "movies['year_added'] = [split_year(x) for x in movies['date_added']]\n",
    "movies['month_added'] = [split_month(x) for x in movies['date_added']]"
   ]
  },
  {
   "cell_type": "code",
   "execution_count": 404,
   "id": "1e6faeac",
   "metadata": {},
   "outputs": [
    {
     "data": {
      "text/html": [
       "<div>\n",
       "<style scoped>\n",
       "    .dataframe tbody tr th:only-of-type {\n",
       "        vertical-align: middle;\n",
       "    }\n",
       "\n",
       "    .dataframe tbody tr th {\n",
       "        vertical-align: top;\n",
       "    }\n",
       "\n",
       "    .dataframe thead th {\n",
       "        text-align: right;\n",
       "    }\n",
       "</style>\n",
       "<table border=\"1\" class=\"dataframe\">\n",
       "  <thead>\n",
       "    <tr style=\"text-align: right;\">\n",
       "      <th></th>\n",
       "      <th>show_id</th>\n",
       "      <th>type</th>\n",
       "      <th>title</th>\n",
       "      <th>director</th>\n",
       "      <th>cast</th>\n",
       "      <th>country</th>\n",
       "      <th>date_added</th>\n",
       "      <th>release_year</th>\n",
       "      <th>rating</th>\n",
       "      <th>duration</th>\n",
       "      <th>listed_in</th>\n",
       "      <th>description</th>\n",
       "      <th>year_added</th>\n",
       "      <th>month_added</th>\n",
       "    </tr>\n",
       "  </thead>\n",
       "  <tbody>\n",
       "    <tr>\n",
       "      <th>0</th>\n",
       "      <td>1</td>\n",
       "      <td>Movie</td>\n",
       "      <td>Dick Johnson Is Dead</td>\n",
       "      <td>Kirsten Johnson</td>\n",
       "      <td>NaN</td>\n",
       "      <td>United States</td>\n",
       "      <td>September 25, 2021</td>\n",
       "      <td>2020</td>\n",
       "      <td>PG-13</td>\n",
       "      <td>90 min</td>\n",
       "      <td>Documentaries</td>\n",
       "      <td>As her father nears the end of his life, filmm...</td>\n",
       "      <td>2021</td>\n",
       "      <td>September</td>\n",
       "    </tr>\n",
       "    <tr>\n",
       "      <th>1</th>\n",
       "      <td>2</td>\n",
       "      <td>Movie</td>\n",
       "      <td>My Little Pony: A New Generation</td>\n",
       "      <td>Robert Cullen, José Luis Ucha</td>\n",
       "      <td>Vanessa Hudgens, Kimiko Glenn, James Marsden, ...</td>\n",
       "      <td>NaN</td>\n",
       "      <td>September 24, 2021</td>\n",
       "      <td>2021</td>\n",
       "      <td>PG</td>\n",
       "      <td>91 min</td>\n",
       "      <td>Children &amp; Family Movies</td>\n",
       "      <td>Equestria's divided. But a bright-eyed hero be...</td>\n",
       "      <td>2021</td>\n",
       "      <td>September</td>\n",
       "    </tr>\n",
       "  </tbody>\n",
       "</table>\n",
       "</div>"
      ],
      "text/plain": [
       "   show_id   type                             title  \\\n",
       "0        1  Movie              Dick Johnson Is Dead   \n",
       "1        2  Movie  My Little Pony: A New Generation   \n",
       "\n",
       "                        director  \\\n",
       "0                Kirsten Johnson   \n",
       "1  Robert Cullen, José Luis Ucha   \n",
       "\n",
       "                                                cast        country  \\\n",
       "0                                                NaN  United States   \n",
       "1  Vanessa Hudgens, Kimiko Glenn, James Marsden, ...            NaN   \n",
       "\n",
       "           date_added  release_year rating duration                 listed_in  \\\n",
       "0  September 25, 2021          2020  PG-13   90 min             Documentaries   \n",
       "1  September 24, 2021          2021     PG   91 min  Children & Family Movies   \n",
       "\n",
       "                                         description year_added month_added  \n",
       "0  As her father nears the end of his life, filmm...       2021   September  \n",
       "1  Equestria's divided. But a bright-eyed hero be...       2021   September  "
      ]
     },
     "execution_count": 404,
     "metadata": {},
     "output_type": "execute_result"
    }
   ],
   "source": [
    "movies.head(2)"
   ]
  },
  {
   "cell_type": "code",
   "execution_count": 405,
   "id": "155d90b0",
   "metadata": {},
   "outputs": [
    {
     "data": {
      "text/plain": [
       "2019    1424\n",
       "2020    1284\n",
       "2018    1237\n",
       "2021     993\n",
       "2017     839\n",
       "2016     253\n",
       "2015      56\n",
       "2014      19\n",
       "2011      13\n",
       "2013       6\n",
       "2012       3\n",
       "2009       2\n",
       "2008       1\n",
       "2010       1\n",
       "Name: year_added, dtype: int64"
      ]
     },
     "execution_count": 405,
     "metadata": {},
     "output_type": "execute_result"
    }
   ],
   "source": [
    "movies['year_added'].value_counts()"
   ]
  },
  {
   "cell_type": "code",
   "execution_count": 449,
   "id": "e96107c4",
   "metadata": {},
   "outputs": [
    {
     "data": {
      "text/plain": [
       "[Text(0.5, 1.0, 'Number of movies released by Year')]"
      ]
     },
     "execution_count": 449,
     "metadata": {},
     "output_type": "execute_result"
    },
    {
     "data": {
      "image/png": "[encoded data removed]",
      "text/plain": [
       "<Figure size 864x576 with 1 Axes>"
      ]
     },
     "metadata": {},
     "output_type": "display_data"
    }
   ],
   "source": [
    "sns.countplot(x=\"release_year\", data=movies,order = movies['release_year'].value_counts().index[:10],palette=\"Set3\").set(title='Number of movies released by Year')"
   ]
  },
  {
   "cell_type": "code",
   "execution_count": 444,
   "id": "cfa4c066",
   "metadata": {},
   "outputs": [
    {
     "data": {
      "text/plain": [
       "[Text(0.5, 1.0, 'Number of movies added by Year')]"
      ]
     },
     "execution_count": 444,
     "metadata": {},
     "output_type": "execute_result"
    },
    {
     "data": {
      "image/png": "[encoded data removed]",
      "text/plain": [
       "<Figure size 864x576 with 1 Axes>"
      ]
     },
     "metadata": {},
     "output_type": "display_data"
    }
   ],
   "source": [
    "\n",
    "sns.countplot(x=\"year_added\", data=movies,order = movies['year_added'].value_counts().index,palette=\"Set3\").set(title='Number of movies added by Year')"
   ]
  },
  {
   "cell_type": "markdown",
   "id": "7ca49994",
   "metadata": {},
   "source": [
    "<h3> Movie Rating </h3>"
   ]
  },
  {
   "cell_type": "code",
   "execution_count": 224,
   "id": "846424a8",
   "metadata": {},
   "outputs": [
    {
     "data": {
      "text/plain": [
       "TV-MA       2062\n",
       "TV-14       1427\n",
       "R            797\n",
       "TV-PG        540\n",
       "PG-13        490\n",
       "PG           287\n",
       "TV-Y7        139\n",
       "TV-Y         131\n",
       "TV-G         126\n",
       "NR            75\n",
       "G             41\n",
       "TV-Y7-FV       5\n",
       "NC-17          3\n",
       "UR             3\n",
       "74 min         1\n",
       "84 min         1\n",
       "66 min         1\n",
       "Name: rating, dtype: int64"
      ]
     },
     "execution_count": 224,
     "metadata": {},
     "output_type": "execute_result"
    }
   ],
   "source": [
    "#check rating column\n",
    "movies['rating'].value_counts()"
   ]
  },
  {
   "cell_type": "code",
   "execution_count": 225,
   "id": "b4fb94b0",
   "metadata": {},
   "outputs": [],
   "source": [
    "wrong_rating_value = ['74 min', '84 min', '66 min']"
   ]
  },
  {
   "cell_type": "code",
   "execution_count": 226,
   "id": "58816300",
   "metadata": {},
   "outputs": [],
   "source": [
    "def correct_rating(x):\n",
    "    for i in wrong_rating_value:\n",
    "        if x==i:\n",
    "            x = x.replace(x, ' ')\n",
    "        else:\n",
    "            x=x\n",
    "    return x"
   ]
  },
  {
   "cell_type": "code",
   "execution_count": 229,
   "id": "3401f960",
   "metadata": {},
   "outputs": [],
   "source": [
    "movies['rating'] = [correct_rating(x) for x in movies['rating']]"
   ]
  },
  {
   "cell_type": "code",
   "execution_count": 231,
   "id": "97a84414",
   "metadata": {},
   "outputs": [
    {
     "data": {
      "text/plain": [
       "TV-MA       2062\n",
       "TV-14       1427\n",
       "R            797\n",
       "TV-PG        540\n",
       "PG-13        490\n",
       "PG           287\n",
       "TV-Y7        139\n",
       "TV-Y         131\n",
       "TV-G         126\n",
       "NR            75\n",
       "G             41\n",
       "TV-Y7-FV       5\n",
       "NC-17          3\n",
       "               3\n",
       "UR             3\n",
       "Name: rating, dtype: int64"
      ]
     },
     "execution_count": 231,
     "metadata": {},
     "output_type": "execute_result"
    }
   ],
   "source": [
    "movies['rating'].value_counts()"
   ]
  },
  {
   "cell_type": "code",
   "execution_count": 453,
   "id": "fbfbdbab",
   "metadata": {},
   "outputs": [
    {
     "data": {
      "image/png": "[encoded data removed]",
      "text/plain": [
       "<Figure size 864x576 with 1 Axes>"
      ]
     },
     "metadata": {},
     "output_type": "display_data"
    }
   ],
   "source": [
    "\n",
    "ax = sns.countplot(x=\"rating\", data=movies, order = movies['rating'].value_counts().index,palette=\"Set3\").set(title= 'Top Movie Rating')"
   ]
  },
  {
   "cell_type": "markdown",
   "id": "20d1470d",
   "metadata": {},
   "source": [
    "<h3> Top Genre  </h3>"
   ]
  },
  {
   "cell_type": "code",
   "execution_count": 411,
   "id": "a4b444ab",
   "metadata": {},
   "outputs": [
    {
     "data": {
      "text/plain": [
       "Dramas, International Movies                        362\n",
       "Documentaries                                       359\n",
       "Stand-Up Comedy                                     334\n",
       "Comedies, Dramas, International Movies              274\n",
       "Dramas, Independent Movies, International Movies    252\n",
       "                                                   ... \n",
       "Sci-Fi & Fantasy                                      1\n",
       "Sports Movies                                         1\n",
       "Children & Family Movies, Comedies, Cult Movies       1\n",
       "Cult Movies, Dramas, Music & Musicals                 1\n",
       "Cult Movies, Dramas, Thrillers                        1\n",
       "Name: listed_in, Length: 278, dtype: int64"
      ]
     },
     "execution_count": 411,
     "metadata": {},
     "output_type": "execute_result"
    }
   ],
   "source": [
    "movies['listed_in'].value_counts()"
   ]
  },
  {
   "cell_type": "code",
   "execution_count": 451,
   "id": "092340ad",
   "metadata": {},
   "outputs": [
    {
     "data": {
      "text/plain": [
       "[Text(0.5, 1.0, 'Top 10 Movie Genre')]"
      ]
     },
     "execution_count": 451,
     "metadata": {},
     "output_type": "execute_result"
    },
    {
     "data": {
      "image/png": "[encoded data removed]",
      "text/plain": [
       "<Figure size 864x576 with 1 Axes>"
      ]
     },
     "metadata": {},
     "output_type": "display_data"
    }
   ],
   "source": [
    "# plt.barh('listed_in', 'show_id',data=listed_in_df, color='red', alpha=0.5)\n",
    "\n",
    "sns.countplot(y=\"listed_in\", data=movies,order = movies['listed_in'].value_counts().index[:10],palette=\"Set3\").set(title='Top 10 Movie Genre')"
   ]
  },
  {
   "cell_type": "markdown",
   "id": "10785ede",
   "metadata": {},
   "source": [
    "<h3> The most movie production countries </h3>"
   ]
  },
  {
   "cell_type": "code",
   "execution_count": 509,
   "id": "4493eafa",
   "metadata": {},
   "outputs": [
    {
     "data": {
      "text/plain": [
       "United States                            2058\n",
       "India                                     893\n",
       "                                          440\n",
       "United Kingdom                            206\n",
       "Canada                                    122\n",
       "                                         ... \n",
       "United Kingdom, Russia, United States       1\n",
       "Paraguay, Argentina                         1\n",
       "United Kingdom, Malawi                      1\n",
       "Austria, Iraq, United States                1\n",
       "United Arab Emirates, Jordan                1\n",
       "Name: country, Length: 652, dtype: int64"
      ]
     },
     "execution_count": 509,
     "metadata": {},
     "output_type": "execute_result"
    }
   ],
   "source": [
    "movies['country'].value_counts()"
   ]
  },
  {
   "cell_type": "code",
   "execution_count": 510,
   "id": "5ef07fbf",
   "metadata": {},
   "outputs": [
    {
     "data": {
      "text/plain": [
       "[Text(0.5, 1.0, 'Top 10 Movie Production Countries')]"
      ]
     },
     "execution_count": 510,
     "metadata": {},
     "output_type": "execute_result"
    },
    {
     "data": {
      "image/png": "[encoded data removed]",
      "text/plain": [
       "<Figure size 864x576 with 1 Axes>"
      ]
     },
     "metadata": {},
     "output_type": "display_data"
    }
   ],
   "source": [
    "sns.countplot(y=\"country\", data=movies,order = movies['country'].value_counts().index[:10],palette=\"Set3\").set(title='Top 10 Movie Production Countries')"
   ]
  },
  {
   "cell_type": "markdown",
   "id": "fbe76447",
   "metadata": {},
   "source": [
    "<h2> Recommendation System </h2>"
   ]
  },
  {
   "cell_type": "markdown",
   "id": "3a7d2dc5",
   "metadata": {},
   "source": [
    "<p> we're going to build a content-based recommendation system. Firstly, let's check the description.</p> "
   ]
  },
  {
   "cell_type": "code",
   "execution_count": 511,
   "id": "35d3ed41",
   "metadata": {},
   "outputs": [
    {
     "data": {
      "text/plain": [
       "0    As her father nears the end of his life, filmm...\n",
       "1    Equestria's divided. But a bright-eyed hero be...\n",
       "2    On a photo shoot in Ghana, an American model s...\n",
       "3    A woman adjusting to life after a loss contend...\n",
       "4    After most of her family is murdered in a terr...\n",
       "Name: description, dtype: object"
      ]
     },
     "execution_count": 511,
     "metadata": {},
     "output_type": "execute_result"
    }
   ],
   "source": [
    "movies['description'].head()"
   ]
  },
  {
   "cell_type": "code",
   "execution_count": 474,
   "id": "2ca2c8d1",
   "metadata": {},
   "outputs": [
    {
     "data": {
      "text/html": [
       "<div>\n",
       "<style scoped>\n",
       "    .dataframe tbody tr th:only-of-type {\n",
       "        vertical-align: middle;\n",
       "    }\n",
       "\n",
       "    .dataframe tbody tr th {\n",
       "        vertical-align: top;\n",
       "    }\n",
       "\n",
       "    .dataframe thead th {\n",
       "        text-align: right;\n",
       "    }\n",
       "</style>\n",
       "<table border=\"1\" class=\"dataframe\">\n",
       "  <thead>\n",
       "    <tr style=\"text-align: right;\">\n",
       "      <th></th>\n",
       "      <th>show_id</th>\n",
       "      <th>type</th>\n",
       "      <th>title</th>\n",
       "      <th>director</th>\n",
       "      <th>cast</th>\n",
       "      <th>country</th>\n",
       "      <th>date_added</th>\n",
       "      <th>release_year</th>\n",
       "      <th>rating</th>\n",
       "      <th>duration</th>\n",
       "      <th>listed_in</th>\n",
       "      <th>description</th>\n",
       "      <th>year_added</th>\n",
       "      <th>month_added</th>\n",
       "      <th>combined_features</th>\n",
       "    </tr>\n",
       "  </thead>\n",
       "  <tbody>\n",
       "    <tr>\n",
       "      <th>0</th>\n",
       "      <td>1</td>\n",
       "      <td>Movie</td>\n",
       "      <td>Dick Johnson Is Dead</td>\n",
       "      <td>Kirsten Johnson</td>\n",
       "      <td>NaN</td>\n",
       "      <td>United States</td>\n",
       "      <td>September 25, 2021</td>\n",
       "      <td>2020</td>\n",
       "      <td>PG-13</td>\n",
       "      <td>90 min</td>\n",
       "      <td>Documentaries</td>\n",
       "      <td>As her father nears the end of his life, filmm...</td>\n",
       "      <td>2021</td>\n",
       "      <td>September</td>\n",
       "      <td>NaN</td>\n",
       "    </tr>\n",
       "    <tr>\n",
       "      <th>1</th>\n",
       "      <td>2</td>\n",
       "      <td>Movie</td>\n",
       "      <td>My Little Pony: A New Generation</td>\n",
       "      <td>Robert Cullen, José Luis Ucha</td>\n",
       "      <td>Vanessa Hudgens, Kimiko Glenn, James Marsden, ...</td>\n",
       "      <td>NaN</td>\n",
       "      <td>September 24, 2021</td>\n",
       "      <td>2021</td>\n",
       "      <td>PG</td>\n",
       "      <td>91 min</td>\n",
       "      <td>Children &amp; Family Movies</td>\n",
       "      <td>Equestria's divided. But a bright-eyed hero be...</td>\n",
       "      <td>2021</td>\n",
       "      <td>September</td>\n",
       "      <td>Robert Cullen, José Luis Ucha Vanessa Hudgens,...</td>\n",
       "    </tr>\n",
       "  </tbody>\n",
       "</table>\n",
       "</div>"
      ],
      "text/plain": [
       "   show_id   type                             title  \\\n",
       "0        1  Movie              Dick Johnson Is Dead   \n",
       "1        2  Movie  My Little Pony: A New Generation   \n",
       "\n",
       "                        director  \\\n",
       "0                Kirsten Johnson   \n",
       "1  Robert Cullen, José Luis Ucha   \n",
       "\n",
       "                                                cast        country  \\\n",
       "0                                                NaN  United States   \n",
       "1  Vanessa Hudgens, Kimiko Glenn, James Marsden, ...            NaN   \n",
       "\n",
       "           date_added  release_year rating duration                 listed_in  \\\n",
       "0  September 25, 2021          2020  PG-13   90 min             Documentaries   \n",
       "1  September 24, 2021          2021     PG   91 min  Children & Family Movies   \n",
       "\n",
       "                                         description year_added month_added  \\\n",
       "0  As her father nears the end of his life, filmm...       2021   September   \n",
       "1  Equestria's divided. But a bright-eyed hero be...       2021   September   \n",
       "\n",
       "                                   combined_features  \n",
       "0                                                NaN  \n",
       "1  Robert Cullen, José Luis Ucha Vanessa Hudgens,...  "
      ]
     },
     "execution_count": 474,
     "metadata": {},
     "output_type": "execute_result"
    }
   ],
   "source": [
    "movies.head(2)"
   ]
  },
  {
   "cell_type": "code",
   "execution_count": 512,
   "id": "a065b960",
   "metadata": {},
   "outputs": [],
   "source": [
    "#fill with space whenever found a NaN value\n",
    "movies.fillna(value = '',inplace = True)"
   ]
  },
  {
   "cell_type": "markdown",
   "id": "35f81269",
   "metadata": {},
   "source": [
    "<p> create a <font color='orange'> 'combined_feature'</font> to add all the features that we want to use in the process of recommendation </p>"
   ]
  },
  {
   "cell_type": "code",
   "execution_count": 513,
   "id": "e5c6f368",
   "metadata": {},
   "outputs": [],
   "source": [
    "movies['combined_features']= movies['director']+\" \"+movies['cast']+ \" \"+ movies['rating']+ \" \"+ movies['listed_in']+ \" \"+ movies['description']"
   ]
  },
  {
   "cell_type": "code",
   "execution_count": 514,
   "id": "796851cb",
   "metadata": {},
   "outputs": [],
   "source": [
    "movies['combined_features'] =movies['combined_features']"
   ]
  },
  {
   "cell_type": "code",
   "execution_count": 518,
   "id": "7acff5b3",
   "metadata": {},
   "outputs": [],
   "source": [
    "def clean_data(x):\n",
    "    if isinstance(x, list):\n",
    "        return [str.lower(i.replace(\",\", \"\")) for i in x]\n",
    "    else:\n",
    "        if isinstance(x, str):\n",
    "            return str.lower(x.replace(\",\", \"\"))\n",
    "        else:\n",
    "            return ''"
   ]
  },
  {
   "cell_type": "code",
   "execution_count": 519,
   "id": "de8aeaf5",
   "metadata": {},
   "outputs": [],
   "source": [
    "movies['combined_features'] = movies['combined_features'].apply(clean_data)"
   ]
  },
  {
   "cell_type": "code",
   "execution_count": 520,
   "id": "63ac25f6",
   "metadata": {},
   "outputs": [
    {
     "data": {
      "text/plain": [
       "0       kirsten johnson   pg-13 documentaries as her f...\n",
       "1       robert cullen josé luis ucha vanessa hudgens k...\n",
       "2       haile gerima kofi ghanaba oyafunmike ogunlano ...\n",
       "3       theodore melfi melissa mccarthy chris o'dowd k...\n",
       "4       christian schwochow luna wedler jannis niewöhn...\n",
       "                              ...                        \n",
       "6126    majid al ansari ali suliman saleh bakri yasa a...\n",
       "6127    david fincher mark ruffalo jake gyllenhaal rob...\n",
       "6128    ruben fleischer jesse eisenberg woody harrelso...\n",
       "6129    peter hewitt tim allen courteney cox chevy cha...\n",
       "6130    mozez singh vicky kaushal sarah-jane dias raag...\n",
       "Name: combined_features, Length: 6131, dtype: object"
      ]
     },
     "execution_count": 520,
     "metadata": {},
     "output_type": "execute_result"
    }
   ],
   "source": [
    "movies['combined_features']"
   ]
  },
  {
   "cell_type": "code",
   "execution_count": 551,
   "id": "83839ed3",
   "metadata": {},
   "outputs": [],
   "source": [
    "from sklearn.feature_extraction.text import CountVectorizer\n",
    "\n",
    "cv = CountVectorizer(stop_words='english')\n",
    "count_matrix = cv.fit_transform(movies['combined_features'])"
   ]
  },
  {
   "cell_type": "code",
   "execution_count": 523,
   "id": "cfdde095",
   "metadata": {},
   "outputs": [
    {
     "data": {
      "text/plain": [
       "(6131, 40536)"
      ]
     },
     "execution_count": 523,
     "metadata": {},
     "output_type": "execute_result"
    }
   ],
   "source": [
    "count_matrix.shape"
   ]
  },
  {
   "cell_type": "code",
   "execution_count": 524,
   "id": "287eb636",
   "metadata": {},
   "outputs": [],
   "source": [
    "from sklearn.metrics.pairwise import cosine_similarity\n",
    "\n",
    "cosine_sim = cosine_similarity(count_matrix)"
   ]
  },
  {
   "cell_type": "code",
   "execution_count": 529,
   "id": "ebec0189",
   "metadata": {},
   "outputs": [],
   "source": [
    "indices = pd.Series(movies.index, index=movies['title']).drop_duplicates()"
   ]
  },
  {
   "cell_type": "code",
   "execution_count": 613,
   "id": "2debdce1",
   "metadata": {},
   "outputs": [],
   "source": [
    "def get_recommendations(title, cosine_sim=cosine_sim):\n",
    "    try:\n",
    "        idx = indices[title]\n",
    "    \n",
    "        sim_scores = list(enumerate(cosine_sim[idx]))\n",
    "\n",
    "        sim_scores = sorted(sim_scores, key=lambda x: x[1], reverse=True)\n",
    "\n",
    "        sim_scores = sim_scores[1:11]\n",
    "\n",
    "        movie_indices = [i[0] for i in sim_scores]\n",
    "        \n",
    "        mov_list = movies['title'].iloc[movie_indices]\n",
    "        \n",
    "        print('Recommended Movies for  \\' {} \\' in decending order'.format(title))\n",
    "        print('-'*(48+len(title)))\n",
    "        print(*mov_list, sep = \"\\n\")\n",
    "\n",
    "    except IndexError:\n",
    "        print('No recommendation for {}'.format(title))"
   ]
  },
  {
   "cell_type": "code",
   "execution_count": 614,
   "id": "47bcc92c",
   "metadata": {},
   "outputs": [
    {
     "name": "stdout",
     "output_type": "stream",
     "text": [
      "Recommended Movies for  ' Happy Old Year ' in decending order\n",
      "--------------------------------------------------------------\n",
      "The Light of My Eyes\n",
      "Seven (Tamil)\n",
      "Sadece Sen\n",
      "That Thing Called Tadhana\n",
      "Exes Baggage\n",
      "Dry Martina\n",
      "One-Way to Tomorrow\n",
      "Beiimaan Love\n",
      "Nang Nak\n",
      "The Reconquest\n"
     ]
    }
   ],
   "source": [
    "get_recommendations('Happy Old Year')"
   ]
  },
  {
   "cell_type": "code",
   "execution_count": null,
   "id": "eb65258f",
   "metadata": {},
   "outputs": [],
   "source": []
  },
  {
   "cell_type": "code",
   "execution_count": null,
   "id": "082ce96e",
   "metadata": {},
   "outputs": [],
   "source": []
  },
  {
   "cell_type": "code",
   "execution_count": 35,
   "id": "9b4a2bd7",
   "metadata": {},
   "outputs": [],
   "source": []
  },
  {
   "cell_type": "code",
   "execution_count": null,
   "id": "d1910305",
   "metadata": {},
   "outputs": [],
   "source": []
  }
 ],
 "metadata": {
  "kernelspec": {
   "display_name": "Python 3 (ipykernel)",
   "language": "python",
   "name": "python3"
  },
  "language_info": {
   "codemirror_mode": {
    "name": "ipython",
    "version": 3
   },
   "file_extension": ".py",
   "mimetype": "text/x-python",
   "name": "python",
   "nbconvert_exporter": "python",
   "pygments_lexer": "ipython3",
   "version": "3.10.1"
  }
 },
 "nbformat": 4,
 "nbformat_minor": 5
}
