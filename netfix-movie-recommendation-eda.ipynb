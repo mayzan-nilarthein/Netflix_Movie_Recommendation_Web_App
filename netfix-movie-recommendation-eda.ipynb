{
 "cells": [
  {
   "attachments": {
    "cover_trail.jpg": {
     "image/jpeg": "[encoded data removed]"
    }
   },
   "cell_type": "markdown",
   "id": "6ce632ea",
   "metadata": {
    "papermill": {
     "duration": 0.072976,
     "end_time": "2022-04-16T11:26:18.115190",
     "exception": false,
     "start_time": "2022-04-16T11:26:18.042214",
     "status": "completed"
    },
    "tags": []
   },
   "source": [
    "# <center> Netflix Movie Recommendation System </center>\n",
    "\n",
    "\n",
    "![cover_trail.jpg](attachment:cover_trail.jpg)"
   ]
  },
  {
   "cell_type": "markdown",
   "id": "97cb7691",
   "metadata": {
    "papermill": {
     "duration": 0.072007,
     "end_time": "2022-04-16T11:26:18.260184",
     "exception": false,
     "start_time": "2022-04-16T11:26:18.188177",
     "status": "completed"
    },
    "tags": []
   },
   "source": [
    "## Movie Recommendation Web App"
   ]
  },
  {
   "cell_type": "markdown",
   "id": "3e382f3b",
   "metadata": {
    "papermill": {
     "duration": 0.072591,
     "end_time": "2022-04-16T11:26:18.405249",
     "exception": false,
     "start_time": "2022-04-16T11:26:18.332658",
     "status": "completed"
    },
    "tags": []
   },
   "source": [
    "![image](https://media.giphy.com/media/BBPwFJYcJ9tCoioTPX/giphy.gif)"
   ]
  },
  {
   "cell_type": "markdown",
   "id": "7ddb4aae",
   "metadata": {
    "papermill": {
     "duration": 0.071929,
     "end_time": "2022-04-16T11:26:18.548890",
     "exception": false,
     "start_time": "2022-04-16T11:26:18.476961",
     "status": "completed"
    },
    "tags": []
   },
   "source": []
  },
  {
   "cell_type": "code",
   "execution_count": null,
   "id": "b393ef0d",
   "metadata": {
    "papermill": {
     "duration": 0.071786,
     "end_time": "2022-04-16T11:26:18.692629",
     "exception": false,
     "start_time": "2022-04-16T11:26:18.620843",
     "status": "completed"
    },
    "tags": []
   },
   "outputs": [],
   "source": []
  },
  {
   "cell_type": "markdown",
   "id": "37606cb9",
   "metadata": {
    "papermill": {
     "duration": 0.071521,
     "end_time": "2022-04-16T11:26:18.836224",
     "exception": false,
     "start_time": "2022-04-16T11:26:18.764703",
     "status": "completed"
    },
    "tags": []
   },
   "source": []
  },
  {
   "cell_type": "code",
   "execution_count": 1,
   "id": "a73d8559",
   "metadata": {
    "execution": {
     "iopub.execute_input": "2022-04-16T11:26:18.981203Z",
     "iopub.status.busy": "2022-04-16T11:26:18.980672Z",
     "iopub.status.idle": "2022-04-16T11:26:19.916278Z",
     "shell.execute_reply": "2022-04-16T11:26:19.915849Z"
    },
    "papermill": {
     "duration": 1.010664,
     "end_time": "2022-04-16T11:26:19.918499",
     "exception": false,
     "start_time": "2022-04-16T11:26:18.907835",
     "status": "completed"
    },
    "tags": []
   },
   "outputs": [],
   "source": [
    "#import required libaries\n",
    "import pandas as pd\n",
    "import numpy as np\n",
    "import seaborn as sns\n",
    "import matplotlib.pyplot as plt\n",
    "sns.set_style(\"whitegrid\")\n",
    "sns.set(rc = {'figure.figsize':(12,8)})"
   ]
  },
  {
   "cell_type": "code",
   "execution_count": 2,
   "id": "cd31ef6d",
   "metadata": {
    "execution": {
     "iopub.execute_input": "2022-04-16T11:26:20.063653Z",
     "iopub.status.busy": "2022-04-16T11:26:20.063394Z",
     "iopub.status.idle": "2022-04-16T11:26:20.182554Z",
     "shell.execute_reply": "2022-04-16T11:26:20.182087Z"
    },
    "papermill": {
     "duration": 0.194221,
     "end_time": "2022-04-16T11:26:20.184679",
     "exception": false,
     "start_time": "2022-04-16T11:26:19.990458",
     "status": "completed"
    },
    "tags": []
   },
   "outputs": [],
   "source": [
    "#load dataset\n",
    "df = pd.read_csv('../input/netflix-shows/netflix_titles.csv')"
   ]
  },
  {
   "cell_type": "code",
   "execution_count": 3,
   "id": "3ce0051f",
   "metadata": {
    "execution": {
     "iopub.execute_input": "2022-04-16T11:26:20.329706Z",
     "iopub.status.busy": "2022-04-16T11:26:20.329460Z",
     "iopub.status.idle": "2022-04-16T11:26:20.346176Z",
     "shell.execute_reply": "2022-04-16T11:26:20.345478Z"
    },
    "papermill": {
     "duration": 0.091471,
     "end_time": "2022-04-16T11:26:20.348045",
     "exception": false,
     "start_time": "2022-04-16T11:26:20.256574",
     "status": "completed"
    },
    "tags": []
   },
   "outputs": [],
   "source": [
    "#only select the movies\n",
    "movies = df[df['type']=='Movie'].reset_index()"
   ]
  },
  {
   "cell_type": "markdown",
   "id": "613dbde2",
   "metadata": {
    "papermill": {
     "duration": 0.047078,
     "end_time": "2022-04-16T11:26:20.441315",
     "exception": false,
     "start_time": "2022-04-16T11:26:20.394237",
     "status": "completed"
    },
    "tags": []
   },
   "source": [
    "## Exploratory Data Analysis\n",
    " <h4> 1. Understanding the variables </h4>"
   ]
  },
  {
   "cell_type": "code",
   "execution_count": 4,
   "id": "d808921a",
   "metadata": {
    "execution": {
     "iopub.execute_input": "2022-04-16T11:26:20.536796Z",
     "iopub.status.busy": "2022-04-16T11:26:20.536535Z",
     "iopub.status.idle": "2022-04-16T11:26:20.556122Z",
     "shell.execute_reply": "2022-04-16T11:26:20.554682Z"
    },
    "papermill": {
     "duration": 0.068898,
     "end_time": "2022-04-16T11:26:20.557748",
     "exception": false,
     "start_time": "2022-04-16T11:26:20.488850",
     "status": "completed"
    },
    "tags": []
   },
   "outputs": [
    {
     "data": {
      "text/html": [
       "<div>\n",
       "<style scoped>\n",
       "    .dataframe tbody tr th:only-of-type {\n",
       "        vertical-align: middle;\n",
       "    }\n",
       "\n",
       "    .dataframe tbody tr th {\n",
       "        vertical-align: top;\n",
       "    }\n",
       "\n",
       "    .dataframe thead th {\n",
       "        text-align: right;\n",
       "    }\n",
       "</style>\n",
       "<table border=\"1\" class=\"dataframe\">\n",
       "  <thead>\n",
       "    <tr style=\"text-align: right;\">\n",
       "      <th></th>\n",
       "      <th>index</th>\n",
       "      <th>show_id</th>\n",
       "      <th>type</th>\n",
       "      <th>title</th>\n",
       "      <th>director</th>\n",
       "      <th>cast</th>\n",
       "      <th>country</th>\n",
       "      <th>date_added</th>\n",
       "      <th>release_year</th>\n",
       "      <th>rating</th>\n",
       "      <th>duration</th>\n",
       "      <th>listed_in</th>\n",
       "      <th>description</th>\n",
       "    </tr>\n",
       "  </thead>\n",
       "  <tbody>\n",
       "    <tr>\n",
       "      <th>0</th>\n",
       "      <td>0</td>\n",
       "      <td>s1</td>\n",
       "      <td>Movie</td>\n",
       "      <td>Dick Johnson Is Dead</td>\n",
       "      <td>Kirsten Johnson</td>\n",
       "      <td>NaN</td>\n",
       "      <td>United States</td>\n",
       "      <td>September 25, 2021</td>\n",
       "      <td>2020</td>\n",
       "      <td>PG-13</td>\n",
       "      <td>90 min</td>\n",
       "      <td>Documentaries</td>\n",
       "      <td>As her father nears the end of his life, filmm...</td>\n",
       "    </tr>\n",
       "    <tr>\n",
       "      <th>1</th>\n",
       "      <td>6</td>\n",
       "      <td>s7</td>\n",
       "      <td>Movie</td>\n",
       "      <td>My Little Pony: A New Generation</td>\n",
       "      <td>Robert Cullen, José Luis Ucha</td>\n",
       "      <td>Vanessa Hudgens, Kimiko Glenn, James Marsden, ...</td>\n",
       "      <td>NaN</td>\n",
       "      <td>September 24, 2021</td>\n",
       "      <td>2021</td>\n",
       "      <td>PG</td>\n",
       "      <td>91 min</td>\n",
       "      <td>Children &amp; Family Movies</td>\n",
       "      <td>Equestria's divided. But a bright-eyed hero be...</td>\n",
       "    </tr>\n",
       "  </tbody>\n",
       "</table>\n",
       "</div>"
      ],
      "text/plain": [
       "   index show_id   type                             title  \\\n",
       "0      0      s1  Movie              Dick Johnson Is Dead   \n",
       "1      6      s7  Movie  My Little Pony: A New Generation   \n",
       "\n",
       "                        director  \\\n",
       "0                Kirsten Johnson   \n",
       "1  Robert Cullen, José Luis Ucha   \n",
       "\n",
       "                                                cast        country  \\\n",
       "0                                                NaN  United States   \n",
       "1  Vanessa Hudgens, Kimiko Glenn, James Marsden, ...            NaN   \n",
       "\n",
       "           date_added  release_year rating duration                 listed_in  \\\n",
       "0  September 25, 2021          2020  PG-13   90 min             Documentaries   \n",
       "1  September 24, 2021          2021     PG   91 min  Children & Family Movies   \n",
       "\n",
       "                                         description  \n",
       "0  As her father nears the end of his life, filmm...  \n",
       "1  Equestria's divided. But a bright-eyed hero be...  "
      ]
     },
     "execution_count": 4,
     "metadata": {},
     "output_type": "execute_result"
    }
   ],
   "source": [
    "movies.head(2)"
   ]
  },
  {
   "cell_type": "code",
   "execution_count": 5,
   "id": "b47a5ee2",
   "metadata": {
    "execution": {
     "iopub.execute_input": "2022-04-16T11:26:20.653329Z",
     "iopub.status.busy": "2022-04-16T11:26:20.653108Z",
     "iopub.status.idle": "2022-04-16T11:26:20.661728Z",
     "shell.execute_reply": "2022-04-16T11:26:20.661009Z"
    },
    "papermill": {
     "duration": 0.058553,
     "end_time": "2022-04-16T11:26:20.663725",
     "exception": false,
     "start_time": "2022-04-16T11:26:20.605172",
     "status": "completed"
    },
    "tags": []
   },
   "outputs": [],
   "source": [
    "movies.drop(['index'], axis=1, inplace=True)"
   ]
  },
  {
   "cell_type": "code",
   "execution_count": 6,
   "id": "dc3ab5f6",
   "metadata": {
    "execution": {
     "iopub.execute_input": "2022-04-16T11:26:20.812825Z",
     "iopub.status.busy": "2022-04-16T11:26:20.812558Z",
     "iopub.status.idle": "2022-04-16T11:26:20.817259Z",
     "shell.execute_reply": "2022-04-16T11:26:20.816696Z"
    },
    "papermill": {
     "duration": 0.082042,
     "end_time": "2022-04-16T11:26:20.819592",
     "exception": false,
     "start_time": "2022-04-16T11:26:20.737550",
     "status": "completed"
    },
    "tags": []
   },
   "outputs": [
    {
     "data": {
      "text/plain": [
       "(6131, 12)"
      ]
     },
     "execution_count": 6,
     "metadata": {},
     "output_type": "execute_result"
    }
   ],
   "source": [
    "#check for the number of rows and cols\n",
    "movies.shape"
   ]
  },
  {
   "cell_type": "code",
   "execution_count": 7,
   "id": "19264b35",
   "metadata": {
    "execution": {
     "iopub.execute_input": "2022-04-16T11:26:20.968890Z",
     "iopub.status.busy": "2022-04-16T11:26:20.968570Z",
     "iopub.status.idle": "2022-04-16T11:26:20.974613Z",
     "shell.execute_reply": "2022-04-16T11:26:20.974149Z"
    },
    "papermill": {
     "duration": 0.08309,
     "end_time": "2022-04-16T11:26:20.976664",
     "exception": false,
     "start_time": "2022-04-16T11:26:20.893574",
     "status": "completed"
    },
    "tags": []
   },
   "outputs": [],
   "source": [
    "movies['show_id'] = [x for x in range(1,6132)]"
   ]
  },
  {
   "cell_type": "code",
   "execution_count": 8,
   "id": "fc8e0b07",
   "metadata": {
    "execution": {
     "iopub.execute_input": "2022-04-16T11:26:21.115892Z",
     "iopub.status.busy": "2022-04-16T11:26:21.115416Z",
     "iopub.status.idle": "2022-04-16T11:26:21.126379Z",
     "shell.execute_reply": "2022-04-16T11:26:21.125751Z"
    },
    "papermill": {
     "duration": 0.08173,
     "end_time": "2022-04-16T11:26:21.127972",
     "exception": false,
     "start_time": "2022-04-16T11:26:21.046242",
     "status": "completed"
    },
    "tags": []
   },
   "outputs": [
    {
     "data": {
      "text/html": [
       "<div>\n",
       "<style scoped>\n",
       "    .dataframe tbody tr th:only-of-type {\n",
       "        vertical-align: middle;\n",
       "    }\n",
       "\n",
       "    .dataframe tbody tr th {\n",
       "        vertical-align: top;\n",
       "    }\n",
       "\n",
       "    .dataframe thead th {\n",
       "        text-align: right;\n",
       "    }\n",
       "</style>\n",
       "<table border=\"1\" class=\"dataframe\">\n",
       "  <thead>\n",
       "    <tr style=\"text-align: right;\">\n",
       "      <th></th>\n",
       "      <th>show_id</th>\n",
       "      <th>type</th>\n",
       "      <th>title</th>\n",
       "      <th>director</th>\n",
       "      <th>cast</th>\n",
       "      <th>country</th>\n",
       "      <th>date_added</th>\n",
       "      <th>release_year</th>\n",
       "      <th>rating</th>\n",
       "      <th>duration</th>\n",
       "      <th>listed_in</th>\n",
       "      <th>description</th>\n",
       "    </tr>\n",
       "  </thead>\n",
       "  <tbody>\n",
       "    <tr>\n",
       "      <th>0</th>\n",
       "      <td>1</td>\n",
       "      <td>Movie</td>\n",
       "      <td>Dick Johnson Is Dead</td>\n",
       "      <td>Kirsten Johnson</td>\n",
       "      <td>NaN</td>\n",
       "      <td>United States</td>\n",
       "      <td>September 25, 2021</td>\n",
       "      <td>2020</td>\n",
       "      <td>PG-13</td>\n",
       "      <td>90 min</td>\n",
       "      <td>Documentaries</td>\n",
       "      <td>As her father nears the end of his life, filmm...</td>\n",
       "    </tr>\n",
       "    <tr>\n",
       "      <th>1</th>\n",
       "      <td>2</td>\n",
       "      <td>Movie</td>\n",
       "      <td>My Little Pony: A New Generation</td>\n",
       "      <td>Robert Cullen, José Luis Ucha</td>\n",
       "      <td>Vanessa Hudgens, Kimiko Glenn, James Marsden, ...</td>\n",
       "      <td>NaN</td>\n",
       "      <td>September 24, 2021</td>\n",
       "      <td>2021</td>\n",
       "      <td>PG</td>\n",
       "      <td>91 min</td>\n",
       "      <td>Children &amp; Family Movies</td>\n",
       "      <td>Equestria's divided. But a bright-eyed hero be...</td>\n",
       "    </tr>\n",
       "  </tbody>\n",
       "</table>\n",
       "</div>"
      ],
      "text/plain": [
       "   show_id   type                             title  \\\n",
       "0        1  Movie              Dick Johnson Is Dead   \n",
       "1        2  Movie  My Little Pony: A New Generation   \n",
       "\n",
       "                        director  \\\n",
       "0                Kirsten Johnson   \n",
       "1  Robert Cullen, José Luis Ucha   \n",
       "\n",
       "                                                cast        country  \\\n",
       "0                                                NaN  United States   \n",
       "1  Vanessa Hudgens, Kimiko Glenn, James Marsden, ...            NaN   \n",
       "\n",
       "           date_added  release_year rating duration                 listed_in  \\\n",
       "0  September 25, 2021          2020  PG-13   90 min             Documentaries   \n",
       "1  September 24, 2021          2021     PG   91 min  Children & Family Movies   \n",
       "\n",
       "                                         description  \n",
       "0  As her father nears the end of his life, filmm...  \n",
       "1  Equestria's divided. But a bright-eyed hero be...  "
      ]
     },
     "execution_count": 8,
     "metadata": {},
     "output_type": "execute_result"
    }
   ],
   "source": [
    "movies.head(2)"
   ]
  },
  {
   "cell_type": "code",
   "execution_count": 9,
   "id": "d4d89db2",
   "metadata": {
    "execution": {
     "iopub.execute_input": "2022-04-16T11:26:21.269219Z",
     "iopub.status.busy": "2022-04-16T11:26:21.268866Z",
     "iopub.status.idle": "2022-04-16T11:26:21.287359Z",
     "shell.execute_reply": "2022-04-16T11:26:21.286795Z"
    },
    "papermill": {
     "duration": 0.090803,
     "end_time": "2022-04-16T11:26:21.289174",
     "exception": false,
     "start_time": "2022-04-16T11:26:21.198371",
     "status": "completed"
    },
    "tags": []
   },
   "outputs": [
    {
     "name": "stdout",
     "output_type": "stream",
     "text": [
      "<class 'pandas.core.frame.DataFrame'>\n",
      "RangeIndex: 6131 entries, 0 to 6130\n",
      "Data columns (total 12 columns):\n",
      " #   Column        Non-Null Count  Dtype \n",
      "---  ------        --------------  ----- \n",
      " 0   show_id       6131 non-null   int64 \n",
      " 1   type          6131 non-null   object\n",
      " 2   title         6131 non-null   object\n",
      " 3   director      5943 non-null   object\n",
      " 4   cast          5656 non-null   object\n",
      " 5   country       5691 non-null   object\n",
      " 6   date_added    6131 non-null   object\n",
      " 7   release_year  6131 non-null   int64 \n",
      " 8   rating        6129 non-null   object\n",
      " 9   duration      6128 non-null   object\n",
      " 10  listed_in     6131 non-null   object\n",
      " 11  description   6131 non-null   object\n",
      "dtypes: int64(2), object(10)\n",
      "memory usage: 574.9+ KB\n"
     ]
    }
   ],
   "source": [
    "movies.info()"
   ]
  },
  {
   "cell_type": "code",
   "execution_count": 10,
   "id": "3a00173b",
   "metadata": {
    "execution": {
     "iopub.execute_input": "2022-04-16T11:26:21.387498Z",
     "iopub.status.busy": "2022-04-16T11:26:21.387094Z",
     "iopub.status.idle": "2022-04-16T11:26:21.394692Z",
     "shell.execute_reply": "2022-04-16T11:26:21.394220Z"
    },
    "papermill": {
     "duration": 0.059137,
     "end_time": "2022-04-16T11:26:21.396160",
     "exception": false,
     "start_time": "2022-04-16T11:26:21.337023",
     "status": "completed"
    },
    "tags": []
   },
   "outputs": [],
   "source": [
    "#check missing values \n",
    "missing_percentage = movies.isnull().sum()/movies.shape[0]*100"
   ]
  },
  {
   "cell_type": "code",
   "execution_count": 11,
   "id": "2b617204",
   "metadata": {
    "execution": {
     "iopub.execute_input": "2022-04-16T11:26:21.505696Z",
     "iopub.status.busy": "2022-04-16T11:26:21.505271Z",
     "iopub.status.idle": "2022-04-16T11:26:21.510157Z",
     "shell.execute_reply": "2022-04-16T11:26:21.509668Z"
    },
    "papermill": {
     "duration": 0.065667,
     "end_time": "2022-04-16T11:26:21.511985",
     "exception": false,
     "start_time": "2022-04-16T11:26:21.446318",
     "status": "completed"
    },
    "tags": []
   },
   "outputs": [
    {
     "data": {
      "text/plain": [
       "[0.0,\n",
       " 0.0,\n",
       " 0.0,\n",
       " 3.0663839504159194,\n",
       " 7.7475126406785195,\n",
       " 7.17664328820747,\n",
       " 0.0,\n",
       " 0.0,\n",
       " 0.032621105855488504,\n",
       " 0.048931658783232745,\n",
       " 0.0,\n",
       " 0.0]"
      ]
     },
     "execution_count": 11,
     "metadata": {},
     "output_type": "execute_result"
    }
   ],
   "source": [
    "missing_percentage.to_list()"
   ]
  },
  {
   "cell_type": "code",
   "execution_count": 12,
   "id": "35adfba8",
   "metadata": {
    "execution": {
     "iopub.execute_input": "2022-04-16T11:26:21.611553Z",
     "iopub.status.busy": "2022-04-16T11:26:21.611114Z",
     "iopub.status.idle": "2022-04-16T11:26:21.614526Z",
     "shell.execute_reply": "2022-04-16T11:26:21.614023Z"
    },
    "papermill": {
     "duration": 0.053309,
     "end_time": "2022-04-16T11:26:21.615779",
     "exception": false,
     "start_time": "2022-04-16T11:26:21.562470",
     "status": "completed"
    },
    "tags": []
   },
   "outputs": [],
   "source": [
    "clms = movies.columns.to_list()\n",
    "missing_percentage = missing_percentage.to_list()"
   ]
  },
  {
   "cell_type": "code",
   "execution_count": 13,
   "id": "f37f4544",
   "metadata": {
    "execution": {
     "iopub.execute_input": "2022-04-16T11:26:21.713554Z",
     "iopub.status.busy": "2022-04-16T11:26:21.713116Z",
     "iopub.status.idle": "2022-04-16T11:26:21.982501Z",
     "shell.execute_reply": "2022-04-16T11:26:21.981845Z"
    },
    "papermill": {
     "duration": 0.321056,
     "end_time": "2022-04-16T11:26:21.984551",
     "exception": false,
     "start_time": "2022-04-16T11:26:21.663495",
     "status": "completed"
    },
    "tags": []
   },
   "outputs": [
    {
     "data": {
      "text/plain": [
       "<BarContainer object of 12 artists>"
      ]
     },
     "execution_count": 13,
     "metadata": {},
     "output_type": "execute_result"
    },
    {
     "data": {
      "image/png": "[encoded data removed]",
      "text/plain": [
       "<Figure size 864x576 with 1 Axes>"
      ]
     },
     "metadata": {},
     "output_type": "display_data"
    }
   ],
   "source": [
    "plt.bar(clms, missing_percentage, color='red', alpha=0.5)\n",
    "\n",
    "# ax = sns.barplot(x=clms, y= missing_percentage,palette=\"Set3\")"
   ]
  },
  {
   "cell_type": "markdown",
   "id": "82c58cdd",
   "metadata": {
    "papermill": {
     "duration": 0.076523,
     "end_time": "2022-04-16T11:26:22.137594",
     "exception": false,
     "start_time": "2022-04-16T11:26:22.061071",
     "status": "completed"
    },
    "tags": []
   },
   "source": [
    "<p> <strong><font color='orange'>director</font></strong> has about <strong><font color='orange'>3%</font></strong>, <strong><font color='orange'>cast</font></strong> has about<strong><font color='orange'>8%</font></strong> and country has <strong><font color='orange'>7%</font></strong> of missing values.\n",
    " "
   ]
  },
  {
   "cell_type": "code",
   "execution_count": 14,
   "id": "82d0a474",
   "metadata": {
    "execution": {
     "iopub.execute_input": "2022-04-16T11:26:22.291565Z",
     "iopub.status.busy": "2022-04-16T11:26:22.291178Z",
     "iopub.status.idle": "2022-04-16T11:26:22.293969Z",
     "shell.execute_reply": "2022-04-16T11:26:22.293565Z"
    },
    "papermill": {
     "duration": 0.081847,
     "end_time": "2022-04-16T11:26:22.295639",
     "exception": false,
     "start_time": "2022-04-16T11:26:22.213792",
     "status": "completed"
    },
    "tags": []
   },
   "outputs": [],
   "source": [
    "# movies[movies['director'].isnull()]\n",
    "# movies[movies['country'].isnull()]\n",
    "# movies[movies['country'].isnull()]"
   ]
  },
  {
   "cell_type": "markdown",
   "id": "5457e3c3",
   "metadata": {
    "papermill": {
     "duration": 0.078125,
     "end_time": "2022-04-16T11:26:22.449711",
     "exception": false,
     "start_time": "2022-04-16T11:26:22.371586",
     "status": "completed"
    },
    "tags": []
   },
   "source": [
    "<h3> Split date_added column into two new columns </h3>"
   ]
  },
  {
   "cell_type": "code",
   "execution_count": 15,
   "id": "8ab7eb1f",
   "metadata": {
    "execution": {
     "iopub.execute_input": "2022-04-16T11:26:22.601452Z",
     "iopub.status.busy": "2022-04-16T11:26:22.601054Z",
     "iopub.status.idle": "2022-04-16T11:26:22.608093Z",
     "shell.execute_reply": "2022-04-16T11:26:22.607433Z"
    },
    "papermill": {
     "duration": 0.084476,
     "end_time": "2022-04-16T11:26:22.609765",
     "exception": false,
     "start_time": "2022-04-16T11:26:22.525289",
     "status": "completed"
    },
    "tags": []
   },
   "outputs": [
    {
     "data": {
      "text/plain": [
       "January 1, 2020      97\n",
       "November 1, 2019     75\n",
       "March 1, 2018        72\n",
       "December 31, 2019    67\n",
       "October 1, 2018      64\n",
       "                     ..\n",
       "October 28, 2017      1\n",
       "October 27, 2017      1\n",
       "October 26, 2017      1\n",
       "October 24, 2017      1\n",
       "January 11, 2020      1\n",
       "Name: date_added, Length: 1533, dtype: int64"
      ]
     },
     "execution_count": 15,
     "metadata": {},
     "output_type": "execute_result"
    }
   ],
   "source": [
    "movies['date_added'].value_counts()"
   ]
  },
  {
   "cell_type": "code",
   "execution_count": 16,
   "id": "0a06d1aa",
   "metadata": {
    "execution": {
     "iopub.execute_input": "2022-04-16T11:26:22.763134Z",
     "iopub.status.busy": "2022-04-16T11:26:22.762740Z",
     "iopub.status.idle": "2022-04-16T11:26:22.766608Z",
     "shell.execute_reply": "2022-04-16T11:26:22.765930Z"
    },
    "papermill": {
     "duration": 0.082655,
     "end_time": "2022-04-16T11:26:22.768838",
     "exception": false,
     "start_time": "2022-04-16T11:26:22.686183",
     "status": "completed"
    },
    "tags": []
   },
   "outputs": [],
   "source": [
    "def split_year(x):\n",
    "    return x.split(',')[1].strip()"
   ]
  },
  {
   "cell_type": "code",
   "execution_count": 17,
   "id": "84c21086",
   "metadata": {
    "execution": {
     "iopub.execute_input": "2022-04-16T11:26:22.925193Z",
     "iopub.status.busy": "2022-04-16T11:26:22.924943Z",
     "iopub.status.idle": "2022-04-16T11:26:22.929049Z",
     "shell.execute_reply": "2022-04-16T11:26:22.928592Z"
    },
    "papermill": {
     "duration": 0.084423,
     "end_time": "2022-04-16T11:26:22.930563",
     "exception": false,
     "start_time": "2022-04-16T11:26:22.846140",
     "status": "completed"
    },
    "tags": []
   },
   "outputs": [
    {
     "data": {
      "text/plain": [
       "'September'"
      ]
     },
     "execution_count": 17,
     "metadata": {},
     "output_type": "execute_result"
    }
   ],
   "source": [
    "#testing\n",
    "m1 = movies['date_added'][1]\n",
    "m1.split(' ')[0]"
   ]
  },
  {
   "cell_type": "code",
   "execution_count": 18,
   "id": "42d5302f",
   "metadata": {
    "execution": {
     "iopub.execute_input": "2022-04-16T11:26:23.075481Z",
     "iopub.status.busy": "2022-04-16T11:26:23.075209Z",
     "iopub.status.idle": "2022-04-16T11:26:23.078428Z",
     "shell.execute_reply": "2022-04-16T11:26:23.077849Z"
    },
    "papermill": {
     "duration": 0.078353,
     "end_time": "2022-04-16T11:26:23.080724",
     "exception": false,
     "start_time": "2022-04-16T11:26:23.002371",
     "status": "completed"
    },
    "tags": []
   },
   "outputs": [],
   "source": [
    "def split_month(x):\n",
    "    return x.split(' ')[0].strip()"
   ]
  },
  {
   "cell_type": "code",
   "execution_count": 19,
   "id": "6825ba2c",
   "metadata": {
    "execution": {
     "iopub.execute_input": "2022-04-16T11:26:23.237392Z",
     "iopub.status.busy": "2022-04-16T11:26:23.237034Z",
     "iopub.status.idle": "2022-04-16T11:26:23.248126Z",
     "shell.execute_reply": "2022-04-16T11:26:23.247200Z"
    },
    "papermill": {
     "duration": 0.09122,
     "end_time": "2022-04-16T11:26:23.249889",
     "exception": false,
     "start_time": "2022-04-16T11:26:23.158669",
     "status": "completed"
    },
    "tags": []
   },
   "outputs": [],
   "source": [
    "#splitting values\n",
    "movies['year_added'] = [split_year(x) for x in movies['date_added']]\n",
    "movies['month_added'] = [split_month(x) for x in movies['date_added']]"
   ]
  },
  {
   "cell_type": "code",
   "execution_count": 20,
   "id": "79be821a",
   "metadata": {
    "execution": {
     "iopub.execute_input": "2022-04-16T11:26:23.404455Z",
     "iopub.status.busy": "2022-04-16T11:26:23.404208Z",
     "iopub.status.idle": "2022-04-16T11:26:23.416575Z",
     "shell.execute_reply": "2022-04-16T11:26:23.415988Z"
    },
    "papermill": {
     "duration": 0.091424,
     "end_time": "2022-04-16T11:26:23.418360",
     "exception": false,
     "start_time": "2022-04-16T11:26:23.326936",
     "status": "completed"
    },
    "tags": []
   },
   "outputs": [
    {
     "data": {
      "text/html": [
       "<div>\n",
       "<style scoped>\n",
       "    .dataframe tbody tr th:only-of-type {\n",
       "        vertical-align: middle;\n",
       "    }\n",
       "\n",
       "    .dataframe tbody tr th {\n",
       "        vertical-align: top;\n",
       "    }\n",
       "\n",
       "    .dataframe thead th {\n",
       "        text-align: right;\n",
       "    }\n",
       "</style>\n",
       "<table border=\"1\" class=\"dataframe\">\n",
       "  <thead>\n",
       "    <tr style=\"text-align: right;\">\n",
       "      <th></th>\n",
       "      <th>show_id</th>\n",
       "      <th>type</th>\n",
       "      <th>title</th>\n",
       "      <th>director</th>\n",
       "      <th>cast</th>\n",
       "      <th>country</th>\n",
       "      <th>date_added</th>\n",
       "      <th>release_year</th>\n",
       "      <th>rating</th>\n",
       "      <th>duration</th>\n",
       "      <th>listed_in</th>\n",
       "      <th>description</th>\n",
       "      <th>year_added</th>\n",
       "      <th>month_added</th>\n",
       "    </tr>\n",
       "  </thead>\n",
       "  <tbody>\n",
       "    <tr>\n",
       "      <th>0</th>\n",
       "      <td>1</td>\n",
       "      <td>Movie</td>\n",
       "      <td>Dick Johnson Is Dead</td>\n",
       "      <td>Kirsten Johnson</td>\n",
       "      <td>NaN</td>\n",
       "      <td>United States</td>\n",
       "      <td>September 25, 2021</td>\n",
       "      <td>2020</td>\n",
       "      <td>PG-13</td>\n",
       "      <td>90 min</td>\n",
       "      <td>Documentaries</td>\n",
       "      <td>As her father nears the end of his life, filmm...</td>\n",
       "      <td>2021</td>\n",
       "      <td>September</td>\n",
       "    </tr>\n",
       "    <tr>\n",
       "      <th>1</th>\n",
       "      <td>2</td>\n",
       "      <td>Movie</td>\n",
       "      <td>My Little Pony: A New Generation</td>\n",
       "      <td>Robert Cullen, José Luis Ucha</td>\n",
       "      <td>Vanessa Hudgens, Kimiko Glenn, James Marsden, ...</td>\n",
       "      <td>NaN</td>\n",
       "      <td>September 24, 2021</td>\n",
       "      <td>2021</td>\n",
       "      <td>PG</td>\n",
       "      <td>91 min</td>\n",
       "      <td>Children &amp; Family Movies</td>\n",
       "      <td>Equestria's divided. But a bright-eyed hero be...</td>\n",
       "      <td>2021</td>\n",
       "      <td>September</td>\n",
       "    </tr>\n",
       "  </tbody>\n",
       "</table>\n",
       "</div>"
      ],
      "text/plain": [
       "   show_id   type                             title  \\\n",
       "0        1  Movie              Dick Johnson Is Dead   \n",
       "1        2  Movie  My Little Pony: A New Generation   \n",
       "\n",
       "                        director  \\\n",
       "0                Kirsten Johnson   \n",
       "1  Robert Cullen, José Luis Ucha   \n",
       "\n",
       "                                                cast        country  \\\n",
       "0                                                NaN  United States   \n",
       "1  Vanessa Hudgens, Kimiko Glenn, James Marsden, ...            NaN   \n",
       "\n",
       "           date_added  release_year rating duration                 listed_in  \\\n",
       "0  September 25, 2021          2020  PG-13   90 min             Documentaries   \n",
       "1  September 24, 2021          2021     PG   91 min  Children & Family Movies   \n",
       "\n",
       "                                         description year_added month_added  \n",
       "0  As her father nears the end of his life, filmm...       2021   September  \n",
       "1  Equestria's divided. But a bright-eyed hero be...       2021   September  "
      ]
     },
     "execution_count": 20,
     "metadata": {},
     "output_type": "execute_result"
    }
   ],
   "source": [
    "movies.head(2)"
   ]
  },
  {
   "cell_type": "code",
   "execution_count": 21,
   "id": "aad73a53",
   "metadata": {
    "execution": {
     "iopub.execute_input": "2022-04-16T11:26:23.574526Z",
     "iopub.status.busy": "2022-04-16T11:26:23.574302Z",
     "iopub.status.idle": "2022-04-16T11:26:23.580285Z",
     "shell.execute_reply": "2022-04-16T11:26:23.579635Z"
    },
    "papermill": {
     "duration": 0.085815,
     "end_time": "2022-04-16T11:26:23.581991",
     "exception": false,
     "start_time": "2022-04-16T11:26:23.496176",
     "status": "completed"
    },
    "tags": []
   },
   "outputs": [
    {
     "data": {
      "text/plain": [
       "2019    1424\n",
       "2020    1284\n",
       "2018    1237\n",
       "2021     993\n",
       "2017     839\n",
       "2016     253\n",
       "2015      56\n",
       "2014      19\n",
       "2011      13\n",
       "2013       6\n",
       "2012       3\n",
       "2009       2\n",
       "2008       1\n",
       "2010       1\n",
       "Name: year_added, dtype: int64"
      ]
     },
     "execution_count": 21,
     "metadata": {},
     "output_type": "execute_result"
    }
   ],
   "source": [
    "movies['year_added'].value_counts()"
   ]
  },
  {
   "cell_type": "code",
   "execution_count": 22,
   "id": "e07427e2",
   "metadata": {
    "execution": {
     "iopub.execute_input": "2022-04-16T11:26:23.739834Z",
     "iopub.status.busy": "2022-04-16T11:26:23.739589Z",
     "iopub.status.idle": "2022-04-16T11:26:23.934765Z",
     "shell.execute_reply": "2022-04-16T11:26:23.933867Z"
    },
    "papermill": {
     "duration": 0.276358,
     "end_time": "2022-04-16T11:26:23.936664",
     "exception": false,
     "start_time": "2022-04-16T11:26:23.660306",
     "status": "completed"
    },
    "tags": []
   },
   "outputs": [
    {
     "data": {
      "text/plain": [
       "[Text(0.5, 1.0, 'Number of movies released by Year')]"
      ]
     },
     "execution_count": 22,
     "metadata": {},
     "output_type": "execute_result"
    },
    {
     "data": {
      "image/png": "[encoded data removed]",
      "text/plain": [
       "<Figure size 864x576 with 1 Axes>"
      ]
     },
     "metadata": {},
     "output_type": "display_data"
    }
   ],
   "source": [
    "sns.countplot(x=\"release_year\", data=movies,order = movies['release_year'].value_counts().index[:10],palette=\"Set3\").set(title='Number of movies released by Year')"
   ]
  },
  {
   "cell_type": "code",
   "execution_count": 23,
   "id": "5ca2fdb0",
   "metadata": {
    "execution": {
     "iopub.execute_input": "2022-04-16T11:26:24.046420Z",
     "iopub.status.busy": "2022-04-16T11:26:24.044607Z",
     "iopub.status.idle": "2022-04-16T11:26:24.280969Z",
     "shell.execute_reply": "2022-04-16T11:26:24.280270Z"
    },
    "papermill": {
     "duration": 0.291594,
     "end_time": "2022-04-16T11:26:24.283328",
     "exception": false,
     "start_time": "2022-04-16T11:26:23.991734",
     "status": "completed"
    },
    "tags": []
   },
   "outputs": [
    {
     "data": {
      "text/plain": [
       "[Text(0.5, 1.0, 'Number of movies added by Year')]"
      ]
     },
     "execution_count": 23,
     "metadata": {},
     "output_type": "execute_result"
    },
    {
     "data": {
      "image/png": "[encoded data removed]",
      "text/plain": [
       "<Figure size 864x576 with 1 Axes>"
      ]
     },
     "metadata": {},
     "output_type": "display_data"
    }
   ],
   "source": [
    "\n",
    "sns.countplot(x=\"year_added\", data=movies,order = movies['year_added'].value_counts().index,palette=\"Set3\").set(title='Number of movies added by Year')"
   ]
  },
  {
   "cell_type": "markdown",
   "id": "12d1a8e7",
   "metadata": {
    "papermill": {
     "duration": 0.080516,
     "end_time": "2022-04-16T11:26:24.445217",
     "exception": false,
     "start_time": "2022-04-16T11:26:24.364701",
     "status": "completed"
    },
    "tags": []
   },
   "source": [
    "<h3> Movie Rating </h3>"
   ]
  },
  {
   "cell_type": "code",
   "execution_count": 24,
   "id": "2c67a59a",
   "metadata": {
    "execution": {
     "iopub.execute_input": "2022-04-16T11:26:24.610437Z",
     "iopub.status.busy": "2022-04-16T11:26:24.609568Z",
     "iopub.status.idle": "2022-04-16T11:26:24.616535Z",
     "shell.execute_reply": "2022-04-16T11:26:24.615961Z"
    },
    "papermill": {
     "duration": 0.091006,
     "end_time": "2022-04-16T11:26:24.618291",
     "exception": false,
     "start_time": "2022-04-16T11:26:24.527285",
     "status": "completed"
    },
    "tags": []
   },
   "outputs": [
    {
     "data": {
      "text/plain": [
       "TV-MA       2062\n",
       "TV-14       1427\n",
       "R            797\n",
       "TV-PG        540\n",
       "PG-13        490\n",
       "PG           287\n",
       "TV-Y7        139\n",
       "TV-Y         131\n",
       "TV-G         126\n",
       "NR            75\n",
       "G             41\n",
       "TV-Y7-FV       5\n",
       "NC-17          3\n",
       "UR             3\n",
       "74 min         1\n",
       "84 min         1\n",
       "66 min         1\n",
       "Name: rating, dtype: int64"
      ]
     },
     "execution_count": 24,
     "metadata": {},
     "output_type": "execute_result"
    }
   ],
   "source": [
    "#check rating column\n",
    "movies['rating'].value_counts()"
   ]
  },
  {
   "cell_type": "code",
   "execution_count": 25,
   "id": "9e382aac",
   "metadata": {
    "execution": {
     "iopub.execute_input": "2022-04-16T11:26:24.784410Z",
     "iopub.status.busy": "2022-04-16T11:26:24.784038Z",
     "iopub.status.idle": "2022-04-16T11:26:24.787182Z",
     "shell.execute_reply": "2022-04-16T11:26:24.786758Z"
    },
    "papermill": {
     "duration": 0.08819,
     "end_time": "2022-04-16T11:26:24.788909",
     "exception": false,
     "start_time": "2022-04-16T11:26:24.700719",
     "status": "completed"
    },
    "tags": []
   },
   "outputs": [],
   "source": [
    "wrong_rating_value = ['74 min', '84 min', '66 min']"
   ]
  },
  {
   "cell_type": "code",
   "execution_count": 26,
   "id": "c2007e5b",
   "metadata": {
    "execution": {
     "iopub.execute_input": "2022-04-16T11:26:24.954937Z",
     "iopub.status.busy": "2022-04-16T11:26:24.954323Z",
     "iopub.status.idle": "2022-04-16T11:26:24.958524Z",
     "shell.execute_reply": "2022-04-16T11:26:24.957735Z"
    },
    "papermill": {
     "duration": 0.088769,
     "end_time": "2022-04-16T11:26:24.960201",
     "exception": false,
     "start_time": "2022-04-16T11:26:24.871432",
     "status": "completed"
    },
    "tags": []
   },
   "outputs": [],
   "source": [
    "def correct_rating(x):\n",
    "    for i in wrong_rating_value:\n",
    "        if x==i:\n",
    "            x = x.replace(x, ' ')\n",
    "        else:\n",
    "            x=x\n",
    "    return x"
   ]
  },
  {
   "cell_type": "code",
   "execution_count": 27,
   "id": "b0f6c992",
   "metadata": {
    "execution": {
     "iopub.execute_input": "2022-04-16T11:26:25.126057Z",
     "iopub.status.busy": "2022-04-16T11:26:25.125666Z",
     "iopub.status.idle": "2022-04-16T11:26:25.131656Z",
     "shell.execute_reply": "2022-04-16T11:26:25.131207Z"
    },
    "papermill": {
     "duration": 0.090592,
     "end_time": "2022-04-16T11:26:25.133256",
     "exception": false,
     "start_time": "2022-04-16T11:26:25.042664",
     "status": "completed"
    },
    "tags": []
   },
   "outputs": [],
   "source": [
    "movies['rating'] = [correct_rating(x) for x in movies['rating']]"
   ]
  },
  {
   "cell_type": "code",
   "execution_count": 28,
   "id": "12236c25",
   "metadata": {
    "execution": {
     "iopub.execute_input": "2022-04-16T11:26:25.297922Z",
     "iopub.status.busy": "2022-04-16T11:26:25.297312Z",
     "iopub.status.idle": "2022-04-16T11:26:25.304243Z",
     "shell.execute_reply": "2022-04-16T11:26:25.303128Z"
    },
    "papermill": {
     "duration": 0.091445,
     "end_time": "2022-04-16T11:26:25.305949",
     "exception": false,
     "start_time": "2022-04-16T11:26:25.214504",
     "status": "completed"
    },
    "tags": []
   },
   "outputs": [
    {
     "data": {
      "text/plain": [
       "TV-MA       2062\n",
       "TV-14       1427\n",
       "R            797\n",
       "TV-PG        540\n",
       "PG-13        490\n",
       "PG           287\n",
       "TV-Y7        139\n",
       "TV-Y         131\n",
       "TV-G         126\n",
       "NR            75\n",
       "G             41\n",
       "TV-Y7-FV       5\n",
       "NC-17          3\n",
       "               3\n",
       "UR             3\n",
       "Name: rating, dtype: int64"
      ]
     },
     "execution_count": 28,
     "metadata": {},
     "output_type": "execute_result"
    }
   ],
   "source": [
    "movies['rating'].value_counts()"
   ]
  },
  {
   "cell_type": "code",
   "execution_count": 29,
   "id": "d63a8094",
   "metadata": {
    "execution": {
     "iopub.execute_input": "2022-04-16T11:26:25.472635Z",
     "iopub.status.busy": "2022-04-16T11:26:25.471986Z",
     "iopub.status.idle": "2022-04-16T11:26:25.736524Z",
     "shell.execute_reply": "2022-04-16T11:26:25.735628Z"
    },
    "papermill": {
     "duration": 0.349896,
     "end_time": "2022-04-16T11:26:25.738574",
     "exception": false,
     "start_time": "2022-04-16T11:26:25.388678",
     "status": "completed"
    },
    "tags": []
   },
   "outputs": [
    {
     "data": {
      "image/png": "[encoded data removed]",
      "text/plain": [
       "<Figure size 864x576 with 1 Axes>"
      ]
     },
     "metadata": {},
     "output_type": "display_data"
    }
   ],
   "source": [
    "\n",
    "ax = sns.countplot(x=\"rating\", data=movies, order = movies['rating'].value_counts().index,palette=\"Set3\").set(title= 'Top Movie Rating')"
   ]
  },
  {
   "cell_type": "markdown",
   "id": "f5c79ad4",
   "metadata": {
    "papermill": {
     "duration": 0.082874,
     "end_time": "2022-04-16T11:26:25.903232",
     "exception": false,
     "start_time": "2022-04-16T11:26:25.820358",
     "status": "completed"
    },
    "tags": []
   },
   "source": [
    "<h3> Top Genre  </h3>"
   ]
  },
  {
   "cell_type": "code",
   "execution_count": 30,
   "id": "0aff04e6",
   "metadata": {
    "execution": {
     "iopub.execute_input": "2022-04-16T11:26:26.071318Z",
     "iopub.status.busy": "2022-04-16T11:26:26.070627Z",
     "iopub.status.idle": "2022-04-16T11:26:26.078513Z",
     "shell.execute_reply": "2022-04-16T11:26:26.077692Z"
    },
    "papermill": {
     "duration": 0.093409,
     "end_time": "2022-04-16T11:26:26.080198",
     "exception": false,
     "start_time": "2022-04-16T11:26:25.986789",
     "status": "completed"
    },
    "tags": []
   },
   "outputs": [
    {
     "data": {
      "text/plain": [
       "Dramas, International Movies                        362\n",
       "Documentaries                                       359\n",
       "Stand-Up Comedy                                     334\n",
       "Comedies, Dramas, International Movies              274\n",
       "Dramas, Independent Movies, International Movies    252\n",
       "                                                   ... \n",
       "Sci-Fi & Fantasy                                      1\n",
       "Sports Movies                                         1\n",
       "Children & Family Movies, Comedies, Cult Movies       1\n",
       "Cult Movies, Dramas, Music & Musicals                 1\n",
       "Cult Movies, Dramas, Thrillers                        1\n",
       "Name: listed_in, Length: 278, dtype: int64"
      ]
     },
     "execution_count": 30,
     "metadata": {},
     "output_type": "execute_result"
    }
   ],
   "source": [
    "movies['listed_in'].value_counts()"
   ]
  },
  {
   "cell_type": "code",
   "execution_count": 31,
   "id": "3e91d072",
   "metadata": {
    "execution": {
     "iopub.execute_input": "2022-04-16T11:26:26.249604Z",
     "iopub.status.busy": "2022-04-16T11:26:26.249272Z",
     "iopub.status.idle": "2022-04-16T11:26:26.535298Z",
     "shell.execute_reply": "2022-04-16T11:26:26.534741Z"
    },
    "papermill": {
     "duration": 0.372857,
     "end_time": "2022-04-16T11:26:26.536963",
     "exception": false,
     "start_time": "2022-04-16T11:26:26.164106",
     "status": "completed"
    },
    "tags": []
   },
   "outputs": [
    {
     "data": {
      "text/plain": [
       "[Text(0.5, 1.0, 'Top 10 Movie Genre')]"
      ]
     },
     "execution_count": 31,
     "metadata": {},
     "output_type": "execute_result"
    },
    {
     "data": {
      "image/png": "[encoded data removed]",
      "text/plain": [
       "<Figure size 864x576 with 1 Axes>"
      ]
     },
     "metadata": {},
     "output_type": "display_data"
    }
   ],
   "source": [
    "# plt.barh('listed_in', 'show_id',data=listed_in_df, color='red', alpha=0.5)\n",
    "\n",
    "sns.countplot(y=\"listed_in\", data=movies,order = movies['listed_in'].value_counts().index[:10],palette=\"Set3\").set(title='Top 10 Movie Genre')"
   ]
  },
  {
   "cell_type": "markdown",
   "id": "952922f8",
   "metadata": {
    "papermill": {
     "duration": 0.056043,
     "end_time": "2022-04-16T11:26:26.651364",
     "exception": false,
     "start_time": "2022-04-16T11:26:26.595321",
     "status": "completed"
    },
    "tags": []
   },
   "source": [
    "<h3> The most movie production countries </h3>"
   ]
  },
  {
   "cell_type": "code",
   "execution_count": 32,
   "id": "fabb293d",
   "metadata": {
    "execution": {
     "iopub.execute_input": "2022-04-16T11:26:26.766039Z",
     "iopub.status.busy": "2022-04-16T11:26:26.765105Z",
     "iopub.status.idle": "2022-04-16T11:26:26.773821Z",
     "shell.execute_reply": "2022-04-16T11:26:26.773092Z"
    },
    "papermill": {
     "duration": 0.067768,
     "end_time": "2022-04-16T11:26:26.775227",
     "exception": false,
     "start_time": "2022-04-16T11:26:26.707459",
     "status": "completed"
    },
    "tags": []
   },
   "outputs": [
    {
     "data": {
      "text/plain": [
       "United States                            2058\n",
       "India                                     893\n",
       "United Kingdom                            206\n",
       "Canada                                    122\n",
       "Spain                                      97\n",
       "                                         ... \n",
       "United Kingdom, Russia, United States       1\n",
       "Paraguay, Argentina                         1\n",
       "United Kingdom, Malawi                      1\n",
       "Austria, Iraq, United States                1\n",
       "United Arab Emirates, Jordan                1\n",
       "Name: country, Length: 651, dtype: int64"
      ]
     },
     "execution_count": 32,
     "metadata": {},
     "output_type": "execute_result"
    }
   ],
   "source": [
    "movies['country'].value_counts()"
   ]
  },
  {
   "cell_type": "code",
   "execution_count": 33,
   "id": "95ed1348",
   "metadata": {
    "execution": {
     "iopub.execute_input": "2022-04-16T11:26:26.890990Z",
     "iopub.status.busy": "2022-04-16T11:26:26.890669Z",
     "iopub.status.idle": "2022-04-16T11:26:27.107276Z",
     "shell.execute_reply": "2022-04-16T11:26:27.106822Z"
    },
    "papermill": {
     "duration": 0.277571,
     "end_time": "2022-04-16T11:26:27.109054",
     "exception": false,
     "start_time": "2022-04-16T11:26:26.831483",
     "status": "completed"
    },
    "tags": []
   },
   "outputs": [
    {
     "data": {
      "text/plain": [
       "[Text(0.5, 1.0, 'Top 10 Movie Production Countries')]"
      ]
     },
     "execution_count": 33,
     "metadata": {},
     "output_type": "execute_result"
    },
    {
     "data": {
      "image/png": "[encoded data removed]",
      "text/plain": [
       "<Figure size 864x576 with 1 Axes>"
      ]
     },
     "metadata": {},
     "output_type": "display_data"
    }
   ],
   "source": [
    "sns.countplot(y=\"country\", data=movies,order = movies['country'].value_counts().index[:10],palette=\"Set3\").set(title='Top 10 Movie Production Countries')"
   ]
  },
  {
   "cell_type": "markdown",
   "id": "02e359e1",
   "metadata": {
    "papermill": {
     "duration": 0.088542,
     "end_time": "2022-04-16T11:26:27.285302",
     "exception": false,
     "start_time": "2022-04-16T11:26:27.196760",
     "status": "completed"
    },
    "tags": []
   },
   "source": [
    "<h2> Recommendation System </h2>"
   ]
  },
  {
   "cell_type": "markdown",
   "id": "4c9f7114",
   "metadata": {
    "papermill": {
     "duration": 0.089686,
     "end_time": "2022-04-16T11:26:27.463419",
     "exception": false,
     "start_time": "2022-04-16T11:26:27.373733",
     "status": "completed"
    },
    "tags": []
   },
   "source": [
    "<p> we're going to build a content-based recommendation system. Firstly, let's check the description.</p> "
   ]
  },
  {
   "cell_type": "code",
   "execution_count": 34,
   "id": "f465752e",
   "metadata": {
    "execution": {
     "iopub.execute_input": "2022-04-16T11:26:27.641659Z",
     "iopub.status.busy": "2022-04-16T11:26:27.641007Z",
     "iopub.status.idle": "2022-04-16T11:26:27.646858Z",
     "shell.execute_reply": "2022-04-16T11:26:27.646227Z"
    },
    "papermill": {
     "duration": 0.097015,
     "end_time": "2022-04-16T11:26:27.648488",
     "exception": false,
     "start_time": "2022-04-16T11:26:27.551473",
     "status": "completed"
    },
    "tags": []
   },
   "outputs": [
    {
     "data": {
      "text/plain": [
       "0    As her father nears the end of his life, filmm...\n",
       "1    Equestria's divided. But a bright-eyed hero be...\n",
       "2    On a photo shoot in Ghana, an American model s...\n",
       "3    A woman adjusting to life after a loss contend...\n",
       "4    After most of her family is murdered in a terr...\n",
       "Name: description, dtype: object"
      ]
     },
     "execution_count": 34,
     "metadata": {},
     "output_type": "execute_result"
    }
   ],
   "source": [
    "movies['description'].head()"
   ]
  },
  {
   "cell_type": "code",
   "execution_count": 35,
   "id": "830ba559",
   "metadata": {
    "execution": {
     "iopub.execute_input": "2022-04-16T11:26:27.825575Z",
     "iopub.status.busy": "2022-04-16T11:26:27.825336Z",
     "iopub.status.idle": "2022-04-16T11:26:27.838619Z",
     "shell.execute_reply": "2022-04-16T11:26:27.838028Z"
    },
    "papermill": {
     "duration": 0.103295,
     "end_time": "2022-04-16T11:26:27.840251",
     "exception": false,
     "start_time": "2022-04-16T11:26:27.736956",
     "status": "completed"
    },
    "tags": []
   },
   "outputs": [
    {
     "data": {
      "text/html": [
       "<div>\n",
       "<style scoped>\n",
       "    .dataframe tbody tr th:only-of-type {\n",
       "        vertical-align: middle;\n",
       "    }\n",
       "\n",
       "    .dataframe tbody tr th {\n",
       "        vertical-align: top;\n",
       "    }\n",
       "\n",
       "    .dataframe thead th {\n",
       "        text-align: right;\n",
       "    }\n",
       "</style>\n",
       "<table border=\"1\" class=\"dataframe\">\n",
       "  <thead>\n",
       "    <tr style=\"text-align: right;\">\n",
       "      <th></th>\n",
       "      <th>show_id</th>\n",
       "      <th>type</th>\n",
       "      <th>title</th>\n",
       "      <th>director</th>\n",
       "      <th>cast</th>\n",
       "      <th>country</th>\n",
       "      <th>date_added</th>\n",
       "      <th>release_year</th>\n",
       "      <th>rating</th>\n",
       "      <th>duration</th>\n",
       "      <th>listed_in</th>\n",
       "      <th>description</th>\n",
       "      <th>year_added</th>\n",
       "      <th>month_added</th>\n",
       "    </tr>\n",
       "  </thead>\n",
       "  <tbody>\n",
       "    <tr>\n",
       "      <th>0</th>\n",
       "      <td>1</td>\n",
       "      <td>Movie</td>\n",
       "      <td>Dick Johnson Is Dead</td>\n",
       "      <td>Kirsten Johnson</td>\n",
       "      <td>NaN</td>\n",
       "      <td>United States</td>\n",
       "      <td>September 25, 2021</td>\n",
       "      <td>2020</td>\n",
       "      <td>PG-13</td>\n",
       "      <td>90 min</td>\n",
       "      <td>Documentaries</td>\n",
       "      <td>As her father nears the end of his life, filmm...</td>\n",
       "      <td>2021</td>\n",
       "      <td>September</td>\n",
       "    </tr>\n",
       "    <tr>\n",
       "      <th>1</th>\n",
       "      <td>2</td>\n",
       "      <td>Movie</td>\n",
       "      <td>My Little Pony: A New Generation</td>\n",
       "      <td>Robert Cullen, José Luis Ucha</td>\n",
       "      <td>Vanessa Hudgens, Kimiko Glenn, James Marsden, ...</td>\n",
       "      <td>NaN</td>\n",
       "      <td>September 24, 2021</td>\n",
       "      <td>2021</td>\n",
       "      <td>PG</td>\n",
       "      <td>91 min</td>\n",
       "      <td>Children &amp; Family Movies</td>\n",
       "      <td>Equestria's divided. But a bright-eyed hero be...</td>\n",
       "      <td>2021</td>\n",
       "      <td>September</td>\n",
       "    </tr>\n",
       "  </tbody>\n",
       "</table>\n",
       "</div>"
      ],
      "text/plain": [
       "   show_id   type                             title  \\\n",
       "0        1  Movie              Dick Johnson Is Dead   \n",
       "1        2  Movie  My Little Pony: A New Generation   \n",
       "\n",
       "                        director  \\\n",
       "0                Kirsten Johnson   \n",
       "1  Robert Cullen, José Luis Ucha   \n",
       "\n",
       "                                                cast        country  \\\n",
       "0                                                NaN  United States   \n",
       "1  Vanessa Hudgens, Kimiko Glenn, James Marsden, ...            NaN   \n",
       "\n",
       "           date_added  release_year rating duration                 listed_in  \\\n",
       "0  September 25, 2021          2020  PG-13   90 min             Documentaries   \n",
       "1  September 24, 2021          2021     PG   91 min  Children & Family Movies   \n",
       "\n",
       "                                         description year_added month_added  \n",
       "0  As her father nears the end of his life, filmm...       2021   September  \n",
       "1  Equestria's divided. But a bright-eyed hero be...       2021   September  "
      ]
     },
     "execution_count": 35,
     "metadata": {},
     "output_type": "execute_result"
    }
   ],
   "source": [
    "movies.head(2)"
   ]
  },
  {
   "cell_type": "code",
   "execution_count": 36,
   "id": "bb352bb2",
   "metadata": {
    "execution": {
     "iopub.execute_input": "2022-04-16T11:26:28.020188Z",
     "iopub.status.busy": "2022-04-16T11:26:28.019751Z",
     "iopub.status.idle": "2022-04-16T11:26:28.027800Z",
     "shell.execute_reply": "2022-04-16T11:26:28.027331Z"
    },
    "papermill": {
     "duration": 0.100251,
     "end_time": "2022-04-16T11:26:28.029463",
     "exception": false,
     "start_time": "2022-04-16T11:26:27.929212",
     "status": "completed"
    },
    "tags": []
   },
   "outputs": [],
   "source": [
    "#fill with space whenever found a NaN value\n",
    "movies.fillna(value = '',inplace = True)"
   ]
  },
  {
   "cell_type": "markdown",
   "id": "52e0dc06",
   "metadata": {
    "papermill": {
     "duration": 0.08923,
     "end_time": "2022-04-16T11:26:28.208989",
     "exception": false,
     "start_time": "2022-04-16T11:26:28.119759",
     "status": "completed"
    },
    "tags": []
   },
   "source": [
    "<p> create a <font color='orange'> 'combined_feature'</font> to add all the features that we want to use in the process of recommendation </p>"
   ]
  },
  {
   "cell_type": "code",
   "execution_count": 37,
   "id": "2c4b3090",
   "metadata": {
    "execution": {
     "iopub.execute_input": "2022-04-16T11:26:28.388127Z",
     "iopub.status.busy": "2022-04-16T11:26:28.387747Z",
     "iopub.status.idle": "2022-04-16T11:26:28.397782Z",
     "shell.execute_reply": "2022-04-16T11:26:28.397302Z"
    },
    "papermill": {
     "duration": 0.102274,
     "end_time": "2022-04-16T11:26:28.400038",
     "exception": false,
     "start_time": "2022-04-16T11:26:28.297764",
     "status": "completed"
    },
    "tags": []
   },
   "outputs": [],
   "source": [
    "movies['combined_features']= movies['director']+\" \"+movies['cast']+ \" \"+ movies['rating']+ \" \"+ movies['listed_in']+ \" \"+ movies['description']"
   ]
  },
  {
   "cell_type": "code",
   "execution_count": 38,
   "id": "2dcca4c8",
   "metadata": {
    "execution": {
     "iopub.execute_input": "2022-04-16T11:26:28.582119Z",
     "iopub.status.busy": "2022-04-16T11:26:28.581759Z",
     "iopub.status.idle": "2022-04-16T11:26:28.585251Z",
     "shell.execute_reply": "2022-04-16T11:26:28.584839Z"
    },
    "papermill": {
     "duration": 0.097403,
     "end_time": "2022-04-16T11:26:28.587442",
     "exception": false,
     "start_time": "2022-04-16T11:26:28.490039",
     "status": "completed"
    },
    "tags": []
   },
   "outputs": [],
   "source": [
    "movies['combined_features'] =movies['combined_features']"
   ]
  },
  {
   "cell_type": "code",
   "execution_count": 39,
   "id": "c4f7f22e",
   "metadata": {
    "execution": {
     "iopub.execute_input": "2022-04-16T11:26:28.767178Z",
     "iopub.status.busy": "2022-04-16T11:26:28.766803Z",
     "iopub.status.idle": "2022-04-16T11:26:28.770488Z",
     "shell.execute_reply": "2022-04-16T11:26:28.770095Z"
    },
    "papermill": {
     "duration": 0.095626,
     "end_time": "2022-04-16T11:26:28.772189",
     "exception": false,
     "start_time": "2022-04-16T11:26:28.676563",
     "status": "completed"
    },
    "tags": []
   },
   "outputs": [],
   "source": [
    "def clean_data(x):\n",
    "    if isinstance(x, list):\n",
    "        return [str.lower(i.replace(\",\", \"\")) for i in x]\n",
    "    else:\n",
    "        if isinstance(x, str):\n",
    "            return str.lower(x.replace(\",\", \"\"))\n",
    "        else:\n",
    "            return ''"
   ]
  },
  {
   "cell_type": "code",
   "execution_count": 40,
   "id": "338c1e9f",
   "metadata": {
    "execution": {
     "iopub.execute_input": "2022-04-16T11:26:28.952352Z",
     "iopub.status.busy": "2022-04-16T11:26:28.952015Z",
     "iopub.status.idle": "2022-04-16T11:26:28.966255Z",
     "shell.execute_reply": "2022-04-16T11:26:28.965827Z"
    },
    "papermill": {
     "duration": 0.106914,
     "end_time": "2022-04-16T11:26:28.968647",
     "exception": false,
     "start_time": "2022-04-16T11:26:28.861733",
     "status": "completed"
    },
    "tags": []
   },
   "outputs": [],
   "source": [
    "movies['combined_features'] = movies['combined_features'].apply(clean_data)"
   ]
  },
  {
   "cell_type": "code",
   "execution_count": 41,
   "id": "032b8d04",
   "metadata": {
    "execution": {
     "iopub.execute_input": "2022-04-16T11:26:29.150092Z",
     "iopub.status.busy": "2022-04-16T11:26:29.149682Z",
     "iopub.status.idle": "2022-04-16T11:26:29.155136Z",
     "shell.execute_reply": "2022-04-16T11:26:29.154534Z"
    },
    "papermill": {
     "duration": 0.097977,
     "end_time": "2022-04-16T11:26:29.156698",
     "exception": false,
     "start_time": "2022-04-16T11:26:29.058721",
     "status": "completed"
    },
    "tags": []
   },
   "outputs": [
    {
     "data": {
      "text/plain": [
       "0       kirsten johnson  pg-13 documentaries as her fa...\n",
       "1       robert cullen josé luis ucha vanessa hudgens k...\n",
       "2       haile gerima kofi ghanaba oyafunmike ogunlano ...\n",
       "3       theodore melfi melissa mccarthy chris o'dowd k...\n",
       "4       christian schwochow luna wedler jannis niewöhn...\n",
       "                              ...                        \n",
       "6126    majid al ansari ali suliman saleh bakri yasa a...\n",
       "6127    david fincher mark ruffalo jake gyllenhaal rob...\n",
       "6128    ruben fleischer jesse eisenberg woody harrelso...\n",
       "6129    peter hewitt tim allen courteney cox chevy cha...\n",
       "6130    mozez singh vicky kaushal sarah-jane dias raag...\n",
       "Name: combined_features, Length: 6131, dtype: object"
      ]
     },
     "execution_count": 41,
     "metadata": {},
     "output_type": "execute_result"
    }
   ],
   "source": [
    "movies['combined_features']"
   ]
  },
  {
   "cell_type": "code",
   "execution_count": 42,
   "id": "dfc39577",
   "metadata": {
    "execution": {
     "iopub.execute_input": "2022-04-16T11:26:29.338303Z",
     "iopub.status.busy": "2022-04-16T11:26:29.337908Z",
     "iopub.status.idle": "2022-04-16T11:26:29.777977Z",
     "shell.execute_reply": "2022-04-16T11:26:29.777211Z"
    },
    "papermill": {
     "duration": 0.532803,
     "end_time": "2022-04-16T11:26:29.780218",
     "exception": false,
     "start_time": "2022-04-16T11:26:29.247415",
     "status": "completed"
    },
    "tags": []
   },
   "outputs": [],
   "source": [
    "from sklearn.feature_extraction.text import CountVectorizer\n",
    "\n",
    "cv = CountVectorizer(stop_words='english')\n",
    "count_matrix = cv.fit_transform(movies['combined_features'])"
   ]
  },
  {
   "cell_type": "code",
   "execution_count": 43,
   "id": "9ae3f5e8",
   "metadata": {
    "execution": {
     "iopub.execute_input": "2022-04-16T11:26:29.959053Z",
     "iopub.status.busy": "2022-04-16T11:26:29.958836Z",
     "iopub.status.idle": "2022-04-16T11:26:29.963485Z",
     "shell.execute_reply": "2022-04-16T11:26:29.962614Z"
    },
    "papermill": {
     "duration": 0.096802,
     "end_time": "2022-04-16T11:26:29.965369",
     "exception": false,
     "start_time": "2022-04-16T11:26:29.868567",
     "status": "completed"
    },
    "tags": []
   },
   "outputs": [
    {
     "data": {
      "text/plain": [
       "(6131, 40533)"
      ]
     },
     "execution_count": 43,
     "metadata": {},
     "output_type": "execute_result"
    }
   ],
   "source": [
    "count_matrix.shape"
   ]
  },
  {
   "cell_type": "code",
   "execution_count": 44,
   "id": "19fea693",
   "metadata": {
    "execution": {
     "iopub.execute_input": "2022-04-16T11:26:30.147034Z",
     "iopub.status.busy": "2022-04-16T11:26:30.146767Z",
     "iopub.status.idle": "2022-04-16T11:26:31.337184Z",
     "shell.execute_reply": "2022-04-16T11:26:31.336286Z"
    },
    "papermill": {
     "duration": 1.283152,
     "end_time": "2022-04-16T11:26:31.339130",
     "exception": false,
     "start_time": "2022-04-16T11:26:30.055978",
     "status": "completed"
    },
    "tags": []
   },
   "outputs": [],
   "source": [
    "from sklearn.metrics.pairwise import cosine_similarity\n",
    "\n",
    "cosine_sim = cosine_similarity(count_matrix)"
   ]
  },
  {
   "cell_type": "code",
   "execution_count": 45,
   "id": "ff11a391",
   "metadata": {
    "execution": {
     "iopub.execute_input": "2022-04-16T11:26:31.462127Z",
     "iopub.status.busy": "2022-04-16T11:26:31.461765Z",
     "iopub.status.idle": "2022-04-16T11:26:31.467834Z",
     "shell.execute_reply": "2022-04-16T11:26:31.467167Z"
    },
    "papermill": {
     "duration": 0.069846,
     "end_time": "2022-04-16T11:26:31.469154",
     "exception": false,
     "start_time": "2022-04-16T11:26:31.399308",
     "status": "completed"
    },
    "tags": []
   },
   "outputs": [],
   "source": [
    "movies['title']= movies['title'].str.lower()"
   ]
  },
  {
   "cell_type": "code",
   "execution_count": 46,
   "id": "0d1d1a42",
   "metadata": {
    "execution": {
     "iopub.execute_input": "2022-04-16T11:26:31.591129Z",
     "iopub.status.busy": "2022-04-16T11:26:31.590746Z",
     "iopub.status.idle": "2022-04-16T11:26:31.594224Z",
     "shell.execute_reply": "2022-04-16T11:26:31.593857Z"
    },
    "papermill": {
     "duration": 0.066432,
     "end_time": "2022-04-16T11:26:31.595422",
     "exception": false,
     "start_time": "2022-04-16T11:26:31.528990",
     "status": "completed"
    },
    "tags": []
   },
   "outputs": [],
   "source": [
    "indices = pd.Series(movies.index, index=movies['title']).drop_duplicates()"
   ]
  },
  {
   "cell_type": "code",
   "execution_count": 47,
   "id": "ac0abd9c",
   "metadata": {
    "execution": {
     "iopub.execute_input": "2022-04-16T11:26:31.718457Z",
     "iopub.status.busy": "2022-04-16T11:26:31.718254Z",
     "iopub.status.idle": "2022-04-16T11:26:31.724550Z",
     "shell.execute_reply": "2022-04-16T11:26:31.724075Z"
    },
    "papermill": {
     "duration": 0.069605,
     "end_time": "2022-04-16T11:26:31.725843",
     "exception": false,
     "start_time": "2022-04-16T11:26:31.656238",
     "status": "completed"
    },
    "tags": []
   },
   "outputs": [],
   "source": [
    "def get_recommendations(title, cosine_sim=cosine_sim):\n",
    "    if title.lower() in [i for i in movies['title'].str.lower()]:\n",
    "        idx = indices[title.lower()]\n",
    "    \n",
    "        sim_scores = list(enumerate(cosine_sim[idx]))\n",
    "\n",
    "        sim_scores = sorted(sim_scores, key=lambda x: x[1], reverse=True)\n",
    "\n",
    "        sim_scores = sim_scores[1:11]\n",
    "\n",
    "        movie_indices = [i[0] for i in sim_scores]\n",
    "        \n",
    "        mov_list = movies['title'].iloc[movie_indices]\n",
    "        \n",
    "        print('Recommended Movies for  \\' {} \\' in decending order'.format(title))\n",
    "        print('-'*(48+len(title)))\n",
    "        print(*mov_list, sep = \"\\n\")\n",
    "\n",
    "    else:\n",
    "        print('We have no movie to recommend for \\' {} \\' at that time. Try with other similar movies.'.format(title))\n",
    "    "
   ]
  },
  {
   "cell_type": "code",
   "execution_count": 48,
   "id": "5ecba3af",
   "metadata": {
    "execution": {
     "iopub.execute_input": "2022-04-16T11:26:31.847849Z",
     "iopub.status.busy": "2022-04-16T11:26:31.847118Z",
     "iopub.status.idle": "2022-04-16T11:26:31.868970Z",
     "shell.execute_reply": "2022-04-16T11:26:31.867604Z"
    },
    "papermill": {
     "duration": 0.084574,
     "end_time": "2022-04-16T11:26:31.870599",
     "exception": false,
     "start_time": "2022-04-16T11:26:31.786025",
     "status": "completed"
    },
    "tags": []
   },
   "outputs": [
    {
     "name": "stdout",
     "output_type": "stream",
     "text": [
      "Recommended Movies for  ' Happy Old Year ' in decending order\n",
      "--------------------------------------------------------------\n",
      "the light of my eyes\n",
      "seven (tamil)\n",
      "sadece sen\n",
      "that thing called tadhana\n",
      "exes baggage\n",
      "dry martina\n",
      "one-way to tomorrow\n",
      "beiimaan love\n",
      "nang nak\n",
      "the reconquest\n"
     ]
    }
   ],
   "source": [
    "get_recommendations('Happy Old Year')"
   ]
  },
  {
   "cell_type": "code",
   "execution_count": null,
   "id": "ed5ed8ed",
   "metadata": {
    "papermill": {
     "duration": 0.058642,
     "end_time": "2022-04-16T11:26:31.989297",
     "exception": false,
     "start_time": "2022-04-16T11:26:31.930655",
     "status": "completed"
    },
    "tags": []
   },
   "outputs": [],
   "source": []
  },
  {
   "cell_type": "code",
   "execution_count": null,
   "id": "32ea2b3c",
   "metadata": {
    "papermill": {
     "duration": 0.059628,
     "end_time": "2022-04-16T11:26:32.108655",
     "exception": false,
     "start_time": "2022-04-16T11:26:32.049027",
     "status": "completed"
    },
    "tags": []
   },
   "outputs": [],
   "source": []
  },
  {
   "cell_type": "code",
   "execution_count": null,
   "id": "cb616efc",
   "metadata": {
    "papermill": {
     "duration": 0.059289,
     "end_time": "2022-04-16T11:26:32.227247",
     "exception": false,
     "start_time": "2022-04-16T11:26:32.167958",
     "status": "completed"
    },
    "tags": []
   },
   "outputs": [],
   "source": []
  }
 ],
 "metadata": {
  "kernelspec": {
   "display_name": "Python 3",
   "language": "python",
   "name": "python3"
  },
  "language_info": {
   "codemirror_mode": {
    "name": "ipython",
    "version": 3
   },
   "file_extension": ".py",
   "mimetype": "text/x-python",
   "name": "python",
   "nbconvert_exporter": "python",
   "pygments_lexer": "ipython3",
   "version": "3.7.12"
  },
  "papermill": {
   "default_parameters": {},
   "duration": 22.146006,
   "end_time": "2022-04-16T11:26:33.006778",
   "environment_variables": {},
   "exception": null,
   "input_path": "__notebook__.ipynb",
   "output_path": "__notebook__.ipynb",
   "parameters": {},
   "start_time": "2022-04-16T11:26:10.860772",
   "version": "2.3.4"
  }
 },
 "nbformat": 4,
 "nbformat_minor": 5
}
